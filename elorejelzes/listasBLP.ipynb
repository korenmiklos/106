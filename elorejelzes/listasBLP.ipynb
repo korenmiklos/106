{
 "cells": [
  {
   "cell_type": "code",
   "execution_count": 1,
   "metadata": {},
   "outputs": [],
   "source": [
    "import pandas as pd\n",
    "import numpy as np"
   ]
  },
  {
   "cell_type": "code",
   "execution_count": 28,
   "metadata": {},
   "outputs": [],
   "source": [
    "path = '~/Documents/github/106/adat/telepules/'"
   ]
  },
  {
   "cell_type": "code",
   "execution_count": 8,
   "metadata": {},
   "outputs": [],
   "source": [
    "part = pd.read_csv(ath + 'telepules_listas_arany.csv')"
   ]
  },
  {
   "cell_type": "code",
   "execution_count": 9,
   "metadata": {},
   "outputs": [
    {
     "data": {
      "text/html": [
       "<div>\n",
       "<style>\n",
       "    .dataframe thead tr:only-child th {\n",
       "        text-align: right;\n",
       "    }\n",
       "\n",
       "    .dataframe thead th {\n",
       "        text-align: left;\n",
       "    }\n",
       "\n",
       "    .dataframe tbody tr th {\n",
       "        vertical-align: top;\n",
       "    }\n",
       "</style>\n",
       "<table border=\"1\" class=\"dataframe\">\n",
       "  <thead>\n",
       "    <tr style=\"text-align: right;\">\n",
       "      <th></th>\n",
       "      <th>id2010</th>\n",
       "      <th>partnev</th>\n",
       "      <th>szavazat2010</th>\n",
       "      <th>osszes2010</th>\n",
       "      <th>arany2010</th>\n",
       "      <th>szavazat2014</th>\n",
       "      <th>osszes2014</th>\n",
       "      <th>arany2014</th>\n",
       "    </tr>\n",
       "  </thead>\n",
       "  <tbody>\n",
       "    <tr>\n",
       "      <th>0</th>\n",
       "      <td>M01/T001</td>\n",
       "      <td>baloldal</td>\n",
       "      <td>3151.0</td>\n",
       "      <td>16588.0</td>\n",
       "      <td>18.995659</td>\n",
       "      <td>4926.0</td>\n",
       "      <td>15039.0</td>\n",
       "      <td>32.754837</td>\n",
       "    </tr>\n",
       "    <tr>\n",
       "      <th>1</th>\n",
       "      <td>M01/T002</td>\n",
       "      <td>baloldal</td>\n",
       "      <td>11786.0</td>\n",
       "      <td>53520.0</td>\n",
       "      <td>22.021673</td>\n",
       "      <td>18945.0</td>\n",
       "      <td>51781.0</td>\n",
       "      <td>36.586781</td>\n",
       "    </tr>\n",
       "    <tr>\n",
       "      <th>2</th>\n",
       "      <td>M01/T003</td>\n",
       "      <td>baloldal</td>\n",
       "      <td>18618.0</td>\n",
       "      <td>71766.0</td>\n",
       "      <td>25.942646</td>\n",
       "      <td>26833.0</td>\n",
       "      <td>70528.0</td>\n",
       "      <td>38.045883</td>\n",
       "    </tr>\n",
       "    <tr>\n",
       "      <th>3</th>\n",
       "      <td>M01/T004</td>\n",
       "      <td>baloldal</td>\n",
       "      <td>14475.0</td>\n",
       "      <td>53891.0</td>\n",
       "      <td>26.859772</td>\n",
       "      <td>20628.0</td>\n",
       "      <td>52807.0</td>\n",
       "      <td>39.063004</td>\n",
       "    </tr>\n",
       "    <tr>\n",
       "      <th>4</th>\n",
       "      <td>M01/T005</td>\n",
       "      <td>baloldal</td>\n",
       "      <td>3580.0</td>\n",
       "      <td>15832.0</td>\n",
       "      <td>22.612431</td>\n",
       "      <td>5724.0</td>\n",
       "      <td>16410.0</td>\n",
       "      <td>34.881168</td>\n",
       "    </tr>\n",
       "  </tbody>\n",
       "</table>\n",
       "</div>"
      ],
      "text/plain": [
       "     id2010   partnev  szavazat2010  osszes2010  arany2010  szavazat2014  \\\n",
       "0  M01/T001  baloldal        3151.0     16588.0  18.995659        4926.0   \n",
       "1  M01/T002  baloldal       11786.0     53520.0  22.021673       18945.0   \n",
       "2  M01/T003  baloldal       18618.0     71766.0  25.942646       26833.0   \n",
       "3  M01/T004  baloldal       14475.0     53891.0  26.859772       20628.0   \n",
       "4  M01/T005  baloldal        3580.0     15832.0  22.612431        5724.0   \n",
       "\n",
       "   osszes2014  arany2014  \n",
       "0     15039.0  32.754837  \n",
       "1     51781.0  36.586781  \n",
       "2     70528.0  38.045883  \n",
       "3     52807.0  39.063004  \n",
       "4     16410.0  34.881168  "
      ]
     },
     "execution_count": 9,
     "metadata": {},
     "output_type": "execute_result"
    }
   ],
   "source": [
    "part.head()"
   ]
  },
  {
   "cell_type": "code",
   "execution_count": 10,
   "metadata": {},
   "outputs": [],
   "source": [
    "crosswalk = pd.read_csv(path + 'telepules_kodok.csv')"
   ]
  },
  {
   "cell_type": "code",
   "execution_count": 11,
   "metadata": {},
   "outputs": [
    {
     "data": {
      "text/html": [
       "<div>\n",
       "<style>\n",
       "    .dataframe thead tr:only-child th {\n",
       "        text-align: right;\n",
       "    }\n",
       "\n",
       "    .dataframe thead th {\n",
       "        text-align: left;\n",
       "    }\n",
       "\n",
       "    .dataframe tbody tr th {\n",
       "        vertical-align: top;\n",
       "    }\n",
       "</style>\n",
       "<table border=\"1\" class=\"dataframe\">\n",
       "  <thead>\n",
       "    <tr style=\"text-align: right;\">\n",
       "      <th></th>\n",
       "      <th>telepules_nev</th>\n",
       "      <th>telepules_id</th>\n",
       "      <th>ksh_kod</th>\n",
       "      <th>nuts3</th>\n",
       "      <th>id2010</th>\n",
       "    </tr>\n",
       "  </thead>\n",
       "  <tbody>\n",
       "    <tr>\n",
       "      <th>0</th>\n",
       "      <td>Budapest I.ker.</td>\n",
       "      <td>M01/T001</td>\n",
       "      <td>9566</td>\n",
       "      <td>HU110</td>\n",
       "      <td>M01/T001</td>\n",
       "    </tr>\n",
       "    <tr>\n",
       "      <th>1</th>\n",
       "      <td>Budapest II.ker.</td>\n",
       "      <td>M01/T002</td>\n",
       "      <td>3179</td>\n",
       "      <td>HU110</td>\n",
       "      <td>M01/T002</td>\n",
       "    </tr>\n",
       "    <tr>\n",
       "      <th>2</th>\n",
       "      <td>Budapest III.ker.</td>\n",
       "      <td>M01/T003</td>\n",
       "      <td>18069</td>\n",
       "      <td>HU110</td>\n",
       "      <td>M01/T003</td>\n",
       "    </tr>\n",
       "    <tr>\n",
       "      <th>3</th>\n",
       "      <td>Budapest IV.ker.</td>\n",
       "      <td>M01/T004</td>\n",
       "      <td>5467</td>\n",
       "      <td>HU110</td>\n",
       "      <td>M01/T004</td>\n",
       "    </tr>\n",
       "    <tr>\n",
       "      <th>4</th>\n",
       "      <td>Budapest V.ker.</td>\n",
       "      <td>M01/T005</td>\n",
       "      <td>13392</td>\n",
       "      <td>HU110</td>\n",
       "      <td>M01/T005</td>\n",
       "    </tr>\n",
       "  </tbody>\n",
       "</table>\n",
       "</div>"
      ],
      "text/plain": [
       "       telepules_nev telepules_id  ksh_kod  nuts3    id2010\n",
       "0    Budapest I.ker.     M01/T001     9566  HU110  M01/T001\n",
       "1   Budapest II.ker.     M01/T002     3179  HU110  M01/T002\n",
       "2  Budapest III.ker.     M01/T003    18069  HU110  M01/T003\n",
       "3   Budapest IV.ker.     M01/T004     5467  HU110  M01/T004\n",
       "4    Budapest V.ker.     M01/T005    13392  HU110  M01/T005"
      ]
     },
     "execution_count": 11,
     "metadata": {},
     "output_type": "execute_result"
    }
   ],
   "source": [
    "crosswalk.head()"
   ]
  },
  {
   "cell_type": "code",
   "execution_count": 13,
   "metadata": {},
   "outputs": [],
   "source": [
    "listasid = part.merge(crosswalk,on = 'id2010',copy=False)"
   ]
  },
  {
   "cell_type": "code",
   "execution_count": 15,
   "metadata": {},
   "outputs": [],
   "source": [
    "listasid['arany2010'] = listasid['arany2010']/100"
   ]
  },
  {
   "cell_type": "code",
   "execution_count": 16,
   "metadata": {},
   "outputs": [],
   "source": [
    "listasid['arany2014'] = listasid['arany2014']/100"
   ]
  },
  {
   "cell_type": "code",
   "execution_count": 17,
   "metadata": {},
   "outputs": [],
   "source": [
    "listasid['ev+3'] = 2014"
   ]
  },
  {
   "cell_type": "code",
   "execution_count": 24,
   "metadata": {},
   "outputs": [],
   "source": [
    "listasid.rename(columns = {'ksh_kod':'ksh5digitnum'},inplace=True)"
   ]
  },
  {
   "cell_type": "code",
   "execution_count": 25,
   "metadata": {},
   "outputs": [],
   "source": [
    "listasid['ksh_kod'] = (listasid['ksh5digitnum']//10).map('{:0>4d}'.format)"
   ]
  },
  {
   "cell_type": "code",
   "execution_count": 26,
   "metadata": {},
   "outputs": [
    {
     "data": {
      "text/html": [
       "<div>\n",
       "<style>\n",
       "    .dataframe thead tr:only-child th {\n",
       "        text-align: right;\n",
       "    }\n",
       "\n",
       "    .dataframe thead th {\n",
       "        text-align: left;\n",
       "    }\n",
       "\n",
       "    .dataframe tbody tr th {\n",
       "        vertical-align: top;\n",
       "    }\n",
       "</style>\n",
       "<table border=\"1\" class=\"dataframe\">\n",
       "  <thead>\n",
       "    <tr style=\"text-align: right;\">\n",
       "      <th></th>\n",
       "      <th>id2010</th>\n",
       "      <th>partnev</th>\n",
       "      <th>szavazat2010</th>\n",
       "      <th>osszes2010</th>\n",
       "      <th>arany2010</th>\n",
       "      <th>szavazat2014</th>\n",
       "      <th>osszes2014</th>\n",
       "      <th>arany2014</th>\n",
       "      <th>telepules_nev</th>\n",
       "      <th>telepules_id</th>\n",
       "      <th>ksh5digitnum</th>\n",
       "      <th>nuts3</th>\n",
       "      <th>ev+3</th>\n",
       "      <th>ksh_kod</th>\n",
       "    </tr>\n",
       "  </thead>\n",
       "  <tbody>\n",
       "    <tr>\n",
       "      <th>0</th>\n",
       "      <td>M01/T001</td>\n",
       "      <td>baloldal</td>\n",
       "      <td>3151.0</td>\n",
       "      <td>16588.0</td>\n",
       "      <td>0.189957</td>\n",
       "      <td>4926.0</td>\n",
       "      <td>15039.0</td>\n",
       "      <td>0.327548</td>\n",
       "      <td>Budapest I.ker.</td>\n",
       "      <td>M01/T001</td>\n",
       "      <td>9566</td>\n",
       "      <td>HU110</td>\n",
       "      <td>2014</td>\n",
       "      <td>0956</td>\n",
       "    </tr>\n",
       "    <tr>\n",
       "      <th>1</th>\n",
       "      <td>M01/T001</td>\n",
       "      <td>egyeb</td>\n",
       "      <td>NaN</td>\n",
       "      <td>NaN</td>\n",
       "      <td>NaN</td>\n",
       "      <td>373.0</td>\n",
       "      <td>15039.0</td>\n",
       "      <td>0.024802</td>\n",
       "      <td>Budapest I.ker.</td>\n",
       "      <td>M01/T001</td>\n",
       "      <td>9566</td>\n",
       "      <td>HU110</td>\n",
       "      <td>2014</td>\n",
       "      <td>0956</td>\n",
       "    </tr>\n",
       "    <tr>\n",
       "      <th>2</th>\n",
       "      <td>M01/T001</td>\n",
       "      <td>fidesz</td>\n",
       "      <td>9092.0</td>\n",
       "      <td>16588.0</td>\n",
       "      <td>0.548107</td>\n",
       "      <td>7064.0</td>\n",
       "      <td>15039.0</td>\n",
       "      <td>0.469712</td>\n",
       "      <td>Budapest I.ker.</td>\n",
       "      <td>M01/T001</td>\n",
       "      <td>9566</td>\n",
       "      <td>HU110</td>\n",
       "      <td>2014</td>\n",
       "      <td>0956</td>\n",
       "    </tr>\n",
       "    <tr>\n",
       "      <th>3</th>\n",
       "      <td>M01/T001</td>\n",
       "      <td>jobbik</td>\n",
       "      <td>1173.0</td>\n",
       "      <td>16588.0</td>\n",
       "      <td>0.070714</td>\n",
       "      <td>971.0</td>\n",
       "      <td>15039.0</td>\n",
       "      <td>0.064565</td>\n",
       "      <td>Budapest I.ker.</td>\n",
       "      <td>M01/T001</td>\n",
       "      <td>9566</td>\n",
       "      <td>HU110</td>\n",
       "      <td>2014</td>\n",
       "      <td>0956</td>\n",
       "    </tr>\n",
       "    <tr>\n",
       "      <th>4</th>\n",
       "      <td>M01/T001</td>\n",
       "      <td>lmp</td>\n",
       "      <td>2333.0</td>\n",
       "      <td>16588.0</td>\n",
       "      <td>0.140644</td>\n",
       "      <td>1705.0</td>\n",
       "      <td>15039.0</td>\n",
       "      <td>0.113372</td>\n",
       "      <td>Budapest I.ker.</td>\n",
       "      <td>M01/T001</td>\n",
       "      <td>9566</td>\n",
       "      <td>HU110</td>\n",
       "      <td>2014</td>\n",
       "      <td>0956</td>\n",
       "    </tr>\n",
       "  </tbody>\n",
       "</table>\n",
       "</div>"
      ],
      "text/plain": [
       "     id2010   partnev  szavazat2010  osszes2010  arany2010  szavazat2014  \\\n",
       "0  M01/T001  baloldal        3151.0     16588.0   0.189957        4926.0   \n",
       "1  M01/T001     egyeb           NaN         NaN        NaN         373.0   \n",
       "2  M01/T001    fidesz        9092.0     16588.0   0.548107        7064.0   \n",
       "3  M01/T001    jobbik        1173.0     16588.0   0.070714         971.0   \n",
       "4  M01/T001       lmp        2333.0     16588.0   0.140644        1705.0   \n",
       "\n",
       "   osszes2014  arany2014    telepules_nev telepules_id  ksh5digitnum  nuts3  \\\n",
       "0     15039.0   0.327548  Budapest I.ker.     M01/T001          9566  HU110   \n",
       "1     15039.0   0.024802  Budapest I.ker.     M01/T001          9566  HU110   \n",
       "2     15039.0   0.469712  Budapest I.ker.     M01/T001          9566  HU110   \n",
       "3     15039.0   0.064565  Budapest I.ker.     M01/T001          9566  HU110   \n",
       "4     15039.0   0.113372  Budapest I.ker.     M01/T001          9566  HU110   \n",
       "\n",
       "   ev+3 ksh_kod  \n",
       "0  2014    0956  \n",
       "1  2014    0956  \n",
       "2  2014    0956  \n",
       "3  2014    0956  \n",
       "4  2014    0956  "
      ]
     },
     "execution_count": 26,
     "metadata": {},
     "output_type": "execute_result"
    }
   ],
   "source": [
    "listasid.head()"
   ]
  },
  {
   "cell_type": "code",
   "execution_count": 27,
   "metadata": {},
   "outputs": [],
   "source": [
    "filelist = ['allaskeresok.csv','koraranyok.csv','munkaadok.csv','nyugdijasok.csv','rezsi.csv','tamogatottak.csv','pop.csv']"
   ]
  },
  {
   "cell_type": "code",
   "execution_count": 31,
   "metadata": {},
   "outputs": [
    {
     "name": "stderr",
     "output_type": "stream",
     "text": [
      "/Users/laszlo.sandor/miniconda3/envs/idp/lib/python3.6/site-packages/IPython/core/interactiveshell.py:2698: DtypeWarning: Columns (0,1) have mixed types. Specify dtype option on import or set low_memory=False.\n",
      "  interactivity=interactivity, compiler=compiler, result=result)\n"
     ]
    },
    {
     "ename": "NameError",
     "evalue": "name 'reduce' is not defined",
     "output_type": "error",
     "traceback": [
      "\u001b[0;31m---------------------------------------------------------------------------\u001b[0m",
      "\u001b[0;31mNameError\u001b[0m                                 Traceback (most recent call last)",
      "\u001b[0;32m<ipython-input-31-b721e93a927b>\u001b[0m in \u001b[0;36m<module>\u001b[0;34m()\u001b[0m\n\u001b[1;32m      4\u001b[0m     \u001b[0mdf\u001b[0m \u001b[0;34m=\u001b[0m \u001b[0mpd\u001b[0m\u001b[0;34m.\u001b[0m\u001b[0mread_csv\u001b[0m\u001b[0;34m(\u001b[0m\u001b[0mfilename\u001b[0m\u001b[0;34m)\u001b[0m\u001b[0;34m\u001b[0m\u001b[0m\n\u001b[1;32m      5\u001b[0m     \u001b[0mdflist\u001b[0m\u001b[0;34m.\u001b[0m\u001b[0mappend\u001b[0m\u001b[0;34m(\u001b[0m\u001b[0mdf\u001b[0m\u001b[0;34m)\u001b[0m\u001b[0;34m\u001b[0m\u001b[0m\n\u001b[0;32m----> 6\u001b[0;31m \u001b[0mtstar\u001b[0m \u001b[0;34m=\u001b[0m \u001b[0mreduce\u001b[0m\u001b[0;34m(\u001b[0m\u001b[0;32mlambda\u001b[0m \u001b[0mx\u001b[0m\u001b[0;34m,\u001b[0m \u001b[0my\u001b[0m\u001b[0;34m:\u001b[0m \u001b[0mpd\u001b[0m\u001b[0;34m.\u001b[0m\u001b[0mmerge\u001b[0m\u001b[0;34m(\u001b[0m\u001b[0mx\u001b[0m\u001b[0;34m,\u001b[0m \u001b[0my\u001b[0m\u001b[0;34m,\u001b[0m\u001b[0mon\u001b[0m\u001b[0;34m=\u001b[0m\u001b[0;34m[\u001b[0m\u001b[0;34m'ksh_azonosito'\u001b[0m\u001b[0;34m,\u001b[0m\u001b[0;34m'ev+3'\u001b[0m\u001b[0;34m]\u001b[0m\u001b[0;34m,\u001b[0m\u001b[0mhow\u001b[0m\u001b[0;34m=\u001b[0m\u001b[0;34m'outer'\u001b[0m\u001b[0;34m,\u001b[0m\u001b[0mcopy\u001b[0m\u001b[0;34m=\u001b[0m\u001b[0;32mFalse\u001b[0m\u001b[0;34m)\u001b[0m\u001b[0;34m,\u001b[0m \u001b[0mdflist\u001b[0m\u001b[0;34m)\u001b[0m\u001b[0;34m\u001b[0m\u001b[0m\n\u001b[0m\u001b[1;32m      7\u001b[0m \u001b[0mdflist\u001b[0m \u001b[0;34m=\u001b[0m \u001b[0;34m[\u001b[0m\u001b[0;34m]\u001b[0m\u001b[0;34m\u001b[0m\u001b[0m\n",
      "\u001b[0;31mNameError\u001b[0m: name 'reduce' is not defined"
     ]
    }
   ],
   "source": [
    "dflist = []\n",
    "for  f in filelist:\n",
    "    filename = path + 'tstar/' + f\n",
    "    df = pd.read_csv(filename)\n",
    "    dflist.append(df)\n",
    "tstar = reduce(lambda x, y: pd.merge(x, y,on=['ksh_azonosito','ev+3'],how='outer',copy=False), dflist)\n",
    "dflist = []"
   ]
  },
  {
   "cell_type": "code",
   "execution_count": null,
   "metadata": {},
   "outputs": [],
   "source": []
  }
 ],
 "metadata": {
  "kernelspec": {
   "display_name": "Python 3",
   "language": "python",
   "name": "python3"
  },
  "language_info": {
   "codemirror_mode": {
    "name": "ipython",
    "version": 3
   },
   "file_extension": ".py",
   "mimetype": "text/x-python",
   "name": "python",
   "nbconvert_exporter": "python",
   "pygments_lexer": "ipython3",
   "version": "3.6.3"
  }
 },
 "nbformat": 4,
 "nbformat_minor": 2
}
