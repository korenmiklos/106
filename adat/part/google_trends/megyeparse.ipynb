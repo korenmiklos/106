{
 "cells": [
  {
   "cell_type": "code",
   "execution_count": 72,
   "metadata": {},
   "outputs": [],
   "source": [
    "import pandas as pd\n",
    "import numpy as np"
   ]
  },
  {
   "cell_type": "code",
   "execution_count": 73,
   "metadata": {},
   "outputs": [],
   "source": [
    "path = '/Users/laszlo.sandor/Documents/github/106/adat/part/google_trends/gtrend1118/'"
   ]
  },
  {
   "cell_type": "code",
   "execution_count": 74,
   "metadata": {},
   "outputs": [],
   "source": [
    "megyelist = ['bacskiskun','baranya','baz','bekes','budapest','csongrad','fejer','gyms','hb','heves','jnsz','ke','nograd','pest','somogy','szszb','tolna','vas','veszprem','zala']\n",
    "megyedict = {'bacskiskun':3,'baranya':2,'baz':5,'bekes':4,'budapest':1,'csongrad':6,'fejer':7,'gyms':8,'hb':9,'heves':10,'jnsz':11,'ke':12,'nograd':13,'pest':14,'somogy':15,'szszb':16,'tolna':17,'vas':18,'veszprem':19,'zala':20}"
   ]
  },
  {
   "cell_type": "code",
   "execution_count": 75,
   "metadata": {},
   "outputs": [],
   "source": [
    "top5_megyek = pd.DataFrame()\n",
    "top5list = []\n",
    "for m in megyelist:\n",
    "    filename = 'top5_' + m + '.csv'\n",
    "    fullpath = path + filename\n",
    "    df = pd.read_csv(fullpath,engine='c', dtype={'Fidesz':np.uint8,'Jobbik':np.uint8,'Hungarian Socialist Party':np.uint8,'Democratic Coalition':np.uint8,'Politics Can Be Different':np.uint8})#,parse_dates=[0])\n",
    "    df['megye'] = megyedict[m]\n",
    "    top5list.append(df)\n",
    "top5_megyek = pd.concat(top5list)"
   ]
  },
  {
   "cell_type": "code",
   "execution_count": 76,
   "metadata": {},
   "outputs": [
    {
     "data": {
      "text/html": [
       "<div>\n",
       "<style scoped>\n",
       "    .dataframe tbody tr th:only-of-type {\n",
       "        vertical-align: middle;\n",
       "    }\n",
       "\n",
       "    .dataframe tbody tr th {\n",
       "        vertical-align: top;\n",
       "    }\n",
       "\n",
       "    .dataframe thead th {\n",
       "        text-align: right;\n",
       "    }\n",
       "</style>\n",
       "<table border=\"1\" class=\"dataframe\">\n",
       "  <thead>\n",
       "    <tr style=\"text-align: right;\">\n",
       "      <th></th>\n",
       "      <th>Month</th>\n",
       "      <th>Fidesz</th>\n",
       "      <th>Jobbik</th>\n",
       "      <th>Hungarian Socialist Party</th>\n",
       "      <th>Democratic Coalition</th>\n",
       "      <th>Politics Can Be Different</th>\n",
       "      <th>megye</th>\n",
       "    </tr>\n",
       "  </thead>\n",
       "  <tbody>\n",
       "    <tr>\n",
       "      <th>0</th>\n",
       "      <td>2011-01</td>\n",
       "      <td>21</td>\n",
       "      <td>17</td>\n",
       "      <td>13</td>\n",
       "      <td>4</td>\n",
       "      <td>4</td>\n",
       "      <td>3</td>\n",
       "    </tr>\n",
       "    <tr>\n",
       "      <th>1</th>\n",
       "      <td>2011-02</td>\n",
       "      <td>23</td>\n",
       "      <td>14</td>\n",
       "      <td>14</td>\n",
       "      <td>0</td>\n",
       "      <td>0</td>\n",
       "      <td>3</td>\n",
       "    </tr>\n",
       "    <tr>\n",
       "      <th>2</th>\n",
       "      <td>2011-03</td>\n",
       "      <td>21</td>\n",
       "      <td>17</td>\n",
       "      <td>8</td>\n",
       "      <td>4</td>\n",
       "      <td>8</td>\n",
       "      <td>3</td>\n",
       "    </tr>\n",
       "    <tr>\n",
       "      <th>3</th>\n",
       "      <td>2011-04</td>\n",
       "      <td>32</td>\n",
       "      <td>37</td>\n",
       "      <td>18</td>\n",
       "      <td>5</td>\n",
       "      <td>0</td>\n",
       "      <td>3</td>\n",
       "    </tr>\n",
       "    <tr>\n",
       "      <th>4</th>\n",
       "      <td>2011-05</td>\n",
       "      <td>48</td>\n",
       "      <td>22</td>\n",
       "      <td>9</td>\n",
       "      <td>0</td>\n",
       "      <td>4</td>\n",
       "      <td>3</td>\n",
       "    </tr>\n",
       "  </tbody>\n",
       "</table>\n",
       "</div>"
      ],
      "text/plain": [
       "     Month  Fidesz  Jobbik  Hungarian Socialist Party  Democratic Coalition  \\\n",
       "0  2011-01      21      17                         13                     4   \n",
       "1  2011-02      23      14                         14                     0   \n",
       "2  2011-03      21      17                          8                     4   \n",
       "3  2011-04      32      37                         18                     5   \n",
       "4  2011-05      48      22                          9                     0   \n",
       "\n",
       "   Politics Can Be Different  megye  \n",
       "0                          4      3  \n",
       "1                          0      3  \n",
       "2                          8      3  \n",
       "3                          0      3  \n",
       "4                          4      3  "
      ]
     },
     "execution_count": 76,
     "metadata": {},
     "output_type": "execute_result"
    }
   ],
   "source": [
    "top5_megyek.head()"
   ]
  },
  {
   "cell_type": "code",
   "execution_count": 77,
   "metadata": {},
   "outputs": [],
   "source": [
    "small3_megyek = pd.DataFrame()\n",
    "small3list = []\n",
    "for m in megyelist:\n",
    "    filename = 'small3_' + m + '.csv'\n",
    "    fullpath = path + filename\n",
    "    df = pd.read_csv(fullpath,engine='c', dtype={'Fidesz':np.uint8, 'Jobbik':np.uint8, 'Together':np.uint8, 'Momentum Movement':np.uint8, 'Dialogue for Hungary':np.uint8})\n",
    "    df['megye'] = megyedict[m]\n",
    "    small3list.append(df)\n",
    "small3_megyek = pd.concat(small3list)"
   ]
  },
  {
   "cell_type": "code",
   "execution_count": 78,
   "metadata": {},
   "outputs": [],
   "source": [
    "top5_megyek.rename(columns={'Fidesz':'fidesz','Jobbik':'jobbik','Hungarian Socialist Party':'mszp','Democratic Coalition':'dk','Politics Can Be Different':'lmp'},inplace=True)\n",
    "small3_megyek.rename(columns={'Fidesz':'fidesz','Jobbik':'jobbik','Together':'egyutt', 'Momentum Movement':'momentum', 'Dialogue for Hungary':'pm'},inplace=True)"
   ]
  },
  {
   "cell_type": "code",
   "execution_count": 79,
   "metadata": {},
   "outputs": [],
   "source": [
    "top5melt = pd.melt(top5_megyek, id_vars=['Month','megye'], value_vars=['fidesz', 'jobbik', 'mszp', 'dk', 'lmp'])\n",
    "top5melt['value'].astype(int)\n",
    "top5melt.rename(columns = {'variable':'party','value':'search_intensity'},inplace=True)\n",
    "top5meltpivot=top5melt.pivot_table(values='search_intensity', index=['Month', 'party'], columns='megye').reset_index()"
   ]
  },
  {
   "cell_type": "code",
   "execution_count": 80,
   "metadata": {},
   "outputs": [],
   "source": [
    "small3melt = pd.melt(small3_megyek.drop(['fidesz', 'jobbik'],axis=1), id_vars=['Month','megye'], value_vars=[  'momentum', 'egyutt', 'pm'])\n",
    "small3melt['value'].astype(int)\n",
    "small3melt.rename(columns = {'variable':'party','value':'search_intensity'},inplace=True)\n",
    "small3meltpivot=small3melt.pivot_table(values='search_intensity', index=['Month', 'party'], columns='megye').reset_index()"
   ]
  },
  {
   "cell_type": "code",
   "execution_count": 81,
   "metadata": {},
   "outputs": [],
   "source": [
    "all_megye_melt = top5melt.append(small3melt)"
   ]
  },
  {
   "cell_type": "code",
   "execution_count": 82,
   "metadata": {},
   "outputs": [
    {
     "data": {
      "text/html": [
       "<div>\n",
       "<style scoped>\n",
       "    .dataframe tbody tr th:only-of-type {\n",
       "        vertical-align: middle;\n",
       "    }\n",
       "\n",
       "    .dataframe tbody tr th {\n",
       "        vertical-align: top;\n",
       "    }\n",
       "\n",
       "    .dataframe thead th {\n",
       "        text-align: right;\n",
       "    }\n",
       "</style>\n",
       "<table border=\"1\" class=\"dataframe\">\n",
       "  <thead>\n",
       "    <tr style=\"text-align: right;\">\n",
       "      <th></th>\n",
       "      <th>Month</th>\n",
       "      <th>megye</th>\n",
       "      <th>party</th>\n",
       "      <th>search_intensity</th>\n",
       "    </tr>\n",
       "  </thead>\n",
       "  <tbody>\n",
       "    <tr>\n",
       "      <th>0</th>\n",
       "      <td>2011-01</td>\n",
       "      <td>3</td>\n",
       "      <td>fidesz</td>\n",
       "      <td>21</td>\n",
       "    </tr>\n",
       "    <tr>\n",
       "      <th>1</th>\n",
       "      <td>2011-02</td>\n",
       "      <td>3</td>\n",
       "      <td>fidesz</td>\n",
       "      <td>23</td>\n",
       "    </tr>\n",
       "    <tr>\n",
       "      <th>2</th>\n",
       "      <td>2011-03</td>\n",
       "      <td>3</td>\n",
       "      <td>fidesz</td>\n",
       "      <td>21</td>\n",
       "    </tr>\n",
       "    <tr>\n",
       "      <th>3</th>\n",
       "      <td>2011-04</td>\n",
       "      <td>3</td>\n",
       "      <td>fidesz</td>\n",
       "      <td>32</td>\n",
       "    </tr>\n",
       "    <tr>\n",
       "      <th>4</th>\n",
       "      <td>2011-05</td>\n",
       "      <td>3</td>\n",
       "      <td>fidesz</td>\n",
       "      <td>48</td>\n",
       "    </tr>\n",
       "  </tbody>\n",
       "</table>\n",
       "</div>"
      ],
      "text/plain": [
       "     Month  megye   party  search_intensity\n",
       "0  2011-01      3  fidesz                21\n",
       "1  2011-02      3  fidesz                23\n",
       "2  2011-03      3  fidesz                21\n",
       "3  2011-04      3  fidesz                32\n",
       "4  2011-05      3  fidesz                48"
      ]
     },
     "execution_count": 82,
     "metadata": {},
     "output_type": "execute_result"
    }
   ],
   "source": [
    "all_megye_melt.head()"
   ]
  },
  {
   "cell_type": "code",
   "execution_count": 83,
   "metadata": {},
   "outputs": [],
   "source": [
    "# setting all searches for Momentum to 0 before 2017, no need to do the same for other new parties as they existed for the 2014 elections\n",
    "all_megye_melt.loc[(all_megye_melt.Month < '2017') & (all_megye_melt.party == 'momentum'),'search_intensity'] = 0"
   ]
  },
  {
   "cell_type": "code",
   "execution_count": 84,
   "metadata": {},
   "outputs": [],
   "source": [
    "amm_gbsum = all_megye_melt.groupby(['Month','megye','party'])['search_intensity'].sum()\n",
    "minden_megye_aranyok = amm_gbsum.groupby(level=[0,1]).apply(lambda x: x / float(x.sum())).reset_index()"
   ]
  },
  {
   "cell_type": "code",
   "execution_count": 85,
   "metadata": {},
   "outputs": [
    {
     "data": {
      "text/html": [
       "<div>\n",
       "<style scoped>\n",
       "    .dataframe tbody tr th:only-of-type {\n",
       "        vertical-align: middle;\n",
       "    }\n",
       "\n",
       "    .dataframe tbody tr th {\n",
       "        vertical-align: top;\n",
       "    }\n",
       "\n",
       "    .dataframe thead th {\n",
       "        text-align: right;\n",
       "    }\n",
       "</style>\n",
       "<table border=\"1\" class=\"dataframe\">\n",
       "  <thead>\n",
       "    <tr style=\"text-align: right;\">\n",
       "      <th></th>\n",
       "      <th>Month</th>\n",
       "      <th>megye</th>\n",
       "      <th>party</th>\n",
       "      <th>search_intensity</th>\n",
       "    </tr>\n",
       "  </thead>\n",
       "  <tbody>\n",
       "    <tr>\n",
       "      <th>0</th>\n",
       "      <td>2011-01</td>\n",
       "      <td>1</td>\n",
       "      <td>dk</td>\n",
       "      <td>0.089109</td>\n",
       "    </tr>\n",
       "    <tr>\n",
       "      <th>1</th>\n",
       "      <td>2011-01</td>\n",
       "      <td>1</td>\n",
       "      <td>egyutt</td>\n",
       "      <td>0.029703</td>\n",
       "    </tr>\n",
       "    <tr>\n",
       "      <th>2</th>\n",
       "      <td>2011-01</td>\n",
       "      <td>1</td>\n",
       "      <td>fidesz</td>\n",
       "      <td>0.376238</td>\n",
       "    </tr>\n",
       "    <tr>\n",
       "      <th>3</th>\n",
       "      <td>2011-01</td>\n",
       "      <td>1</td>\n",
       "      <td>jobbik</td>\n",
       "      <td>0.247525</td>\n",
       "    </tr>\n",
       "    <tr>\n",
       "      <th>4</th>\n",
       "      <td>2011-01</td>\n",
       "      <td>1</td>\n",
       "      <td>lmp</td>\n",
       "      <td>0.049505</td>\n",
       "    </tr>\n",
       "  </tbody>\n",
       "</table>\n",
       "</div>"
      ],
      "text/plain": [
       "     Month  megye   party  search_intensity\n",
       "0  2011-01      1      dk          0.089109\n",
       "1  2011-01      1  egyutt          0.029703\n",
       "2  2011-01      1  fidesz          0.376238\n",
       "3  2011-01      1  jobbik          0.247525\n",
       "4  2011-01      1     lmp          0.049505"
      ]
     },
     "execution_count": 85,
     "metadata": {},
     "output_type": "execute_result"
    }
   ],
   "source": [
    "minden_megye_aranyok.head()"
   ]
  },
  {
   "cell_type": "code",
   "execution_count": 86,
   "metadata": {},
   "outputs": [],
   "source": [
    "minden_megye_aranyok.to_csv('GTrend_megye_aranyok1118.csv',index=False)"
   ]
  }
 ],
 "metadata": {
  "kernelspec": {
   "display_name": "Python 3",
   "language": "python",
   "name": "python3"
  },
  "language_info": {
   "codemirror_mode": {
    "name": "ipython",
    "version": 3
   },
   "file_extension": ".py",
   "mimetype": "text/x-python",
   "name": "python",
   "nbconvert_exporter": "python",
   "pygments_lexer": "ipython3",
   "version": "3.6.3"
  }
 },
 "nbformat": 4,
 "nbformat_minor": 2
}
