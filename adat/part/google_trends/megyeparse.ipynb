{
 "cells": [
  {
   "cell_type": "code",
   "execution_count": 1,
   "metadata": {},
   "outputs": [],
   "source": [
    "import pandas as pd\n",
    "import numpy as np"
   ]
  },
  {
   "cell_type": "code",
   "execution_count": 2,
   "metadata": {},
   "outputs": [],
   "source": [
    "path = '~/Dropbox/scratch/'"
   ]
  },
  {
   "cell_type": "code",
   "execution_count": 3,
   "metadata": {},
   "outputs": [],
   "source": [
    "megyelist = ['bácskiskun','baranya','baz','békés','budapest','csongrad','fejer','gyms','hb','heves','jnsz','ke','nograd','pest','somogy','szszb','tolna','vas','veszprem','zala']\n",
    "megyedict = {'bácskiskun':3,'baranya':2,'baz':5,'békés':4,'budapest':1,'csongrad':6,'fejer':7,'gyms':8,'hb':9,'heves':10,'jnsz':11,'ke':12,'nograd':13,'pest':14,'somogy':15,'szszb':16,'tolna':17,'vas':18,'veszprem':19,'zala':20}"
   ]
  },
  {
   "cell_type": "code",
   "execution_count": 4,
   "metadata": {},
   "outputs": [],
   "source": [
    "top5_megyek = pd.DataFrame()\n",
    "top5list = []\n",
    "for m in megyelist:\n",
    "    filename = 'top5_' + m + '.csv'\n",
    "    fullpath = path + filename\n",
    "    df = pd.read_csv(fullpath,engine='c', header=1, dtype={'Fidesz':np.uint8,'Jobbik':np.uint8,'Hungarian Socialist Party':np.uint8,'Democratic Coalition':np.uint8,'Politics Can Be Different':np.uint8})#,parse_dates=[0])\n",
    "    df['megye'] = megyedict[m]\n",
    "    top5list.append(df)\n",
    "top5_megyek = pd.concat(top5list)"
   ]
  },
  {
   "cell_type": "code",
   "execution_count": 5,
   "metadata": {},
   "outputs": [
    {
     "data": {
      "text/html": [
       "<div>\n",
       "<style>\n",
       "    .dataframe thead tr:only-child th {\n",
       "        text-align: right;\n",
       "    }\n",
       "\n",
       "    .dataframe thead th {\n",
       "        text-align: left;\n",
       "    }\n",
       "\n",
       "    .dataframe tbody tr th {\n",
       "        vertical-align: top;\n",
       "    }\n",
       "</style>\n",
       "<table border=\"1\" class=\"dataframe\">\n",
       "  <thead>\n",
       "    <tr style=\"text-align: right;\">\n",
       "      <th></th>\n",
       "      <th>Month</th>\n",
       "      <th>Fidesz</th>\n",
       "      <th>Jobbik</th>\n",
       "      <th>Hungarian Socialist Party</th>\n",
       "      <th>Democratic Coalition</th>\n",
       "      <th>Politics Can Be Different</th>\n",
       "      <th>megye</th>\n",
       "    </tr>\n",
       "  </thead>\n",
       "  <tbody>\n",
       "    <tr>\n",
       "      <th>0</th>\n",
       "      <td>2004-01</td>\n",
       "      <td>0</td>\n",
       "      <td>0</td>\n",
       "      <td>0</td>\n",
       "      <td>0</td>\n",
       "      <td>0</td>\n",
       "      <td>3</td>\n",
       "    </tr>\n",
       "    <tr>\n",
       "      <th>1</th>\n",
       "      <td>2004-02</td>\n",
       "      <td>0</td>\n",
       "      <td>0</td>\n",
       "      <td>0</td>\n",
       "      <td>0</td>\n",
       "      <td>0</td>\n",
       "      <td>3</td>\n",
       "    </tr>\n",
       "    <tr>\n",
       "      <th>2</th>\n",
       "      <td>2004-03</td>\n",
       "      <td>0</td>\n",
       "      <td>0</td>\n",
       "      <td>0</td>\n",
       "      <td>0</td>\n",
       "      <td>0</td>\n",
       "      <td>3</td>\n",
       "    </tr>\n",
       "    <tr>\n",
       "      <th>3</th>\n",
       "      <td>2004-04</td>\n",
       "      <td>0</td>\n",
       "      <td>0</td>\n",
       "      <td>77</td>\n",
       "      <td>77</td>\n",
       "      <td>0</td>\n",
       "      <td>3</td>\n",
       "    </tr>\n",
       "    <tr>\n",
       "      <th>4</th>\n",
       "      <td>2004-05</td>\n",
       "      <td>0</td>\n",
       "      <td>0</td>\n",
       "      <td>0</td>\n",
       "      <td>0</td>\n",
       "      <td>0</td>\n",
       "      <td>3</td>\n",
       "    </tr>\n",
       "  </tbody>\n",
       "</table>\n",
       "</div>"
      ],
      "text/plain": [
       "     Month  Fidesz  Jobbik  Hungarian Socialist Party  Democratic Coalition  \\\n",
       "0  2004-01       0       0                          0                     0   \n",
       "1  2004-02       0       0                          0                     0   \n",
       "2  2004-03       0       0                          0                     0   \n",
       "3  2004-04       0       0                         77                    77   \n",
       "4  2004-05       0       0                          0                     0   \n",
       "\n",
       "   Politics Can Be Different  megye  \n",
       "0                          0      3  \n",
       "1                          0      3  \n",
       "2                          0      3  \n",
       "3                          0      3  \n",
       "4                          0      3  "
      ]
     },
     "execution_count": 5,
     "metadata": {},
     "output_type": "execute_result"
    }
   ],
   "source": [
    "top5_megyek.head()"
   ]
  },
  {
   "cell_type": "code",
   "execution_count": 6,
   "metadata": {},
   "outputs": [],
   "source": [
    "small3_megyek = pd.DataFrame()\n",
    "small3list = []\n",
    "for m in megyelist:\n",
    "    filename = 'small3_' + m + '.csv'\n",
    "    fullpath = path + filename\n",
    "    df = pd.read_csv(fullpath,engine='c', header=1,dtype={'Fidesz':np.uint8, 'Together':np.uint8, 'Momentum Movement':np.uint8, 'Dialogue for Hungary':np.uint8})\n",
    "    df['megye'] = megyedict[m]\n",
    "    small3list.append(df)\n",
    "small3_megyek = pd.concat(small3list)"
   ]
  },
  {
   "cell_type": "code",
   "execution_count": 7,
   "metadata": {},
   "outputs": [
    {
     "data": {
      "text/plain": [
       "Index(['Month', 'Fidesz', 'Together', 'Momentum Movement',\n",
       "       'Dialogue for Hungary', 'megye'],\n",
       "      dtype='object')"
      ]
     },
     "execution_count": 7,
     "metadata": {},
     "output_type": "execute_result"
    }
   ],
   "source": [
    "small3_megyek.columns"
   ]
  },
  {
   "cell_type": "code",
   "execution_count": 8,
   "metadata": {},
   "outputs": [],
   "source": [
    "m = 'orszagos'\n",
    "filename = 'top5_' + m + '.csv'\n",
    "fullpath = path + filename\n",
    "top5_orszagos = pd.read_csv(fullpath,engine='c', header=1,dtype={'Fidesz':np.uint8,'Jobbik':np.uint8,'Hungarian Socialist Party':np.uint8,'Democratic Coalition':np.uint8,'Politics Can Be Different':np.uint8})\n",
    "filename = 'small3_' + m + '.csv'\n",
    "fullpath = path + filename\n",
    "small3_orszagos = pd.read_csv(fullpath,engine='c', header=1,dtype={'Fidesz':np.uint8, 'Together':np.uint8, 'Momentum Movement':np.uint8, 'Dialogue for Hungary':np.uint8})"
   ]
  },
  {
   "cell_type": "code",
   "execution_count": 9,
   "metadata": {},
   "outputs": [],
   "source": [
    "top5melt = pd.melt(top5_megyek, id_vars=['Month','megye'], value_vars=['Fidesz','Jobbik','Hungarian Socialist Party','Democratic Coalition','Politics Can Be Different'])\n",
    "top5melt['value'].astype(int)\n",
    "top5melt.rename(columns = {'variable':'party','value':'search_intensity'},inplace=True)\n",
    "top5meltpivot=top5melt.pivot_table(values='search_intensity', index=['Month', 'party'], columns='megye').reset_index()"
   ]
  },
  {
   "cell_type": "code",
   "execution_count": 10,
   "metadata": {},
   "outputs": [],
   "source": [
    "top5_orszagos_melt = pd.melt(top5_orszagos, id_vars=['Month'], value_vars=['Fidesz','Jobbik','Hungarian Socialist Party','Democratic Coalition','Politics Can Be Different'])\n",
    "top5_orszagos_melt.rename(columns = {'variable':'party','value':'orszagos'},inplace=True)"
   ]
  },
  {
   "cell_type": "code",
   "execution_count": 11,
   "metadata": {},
   "outputs": [],
   "source": [
    "small3melt = pd.melt(small3_megyek.drop('Fidesz',axis=1), id_vars=['Month','megye'], value_vars=[ 'Together', 'Momentum Movement', 'Dialogue for Hungary'])\n",
    "small3melt['value'].astype(int)\n",
    "small3melt.rename(columns = {'variable':'party','value':'search_intensity'},inplace=True)\n",
    "small3meltpivot=small3melt.pivot_table(values='search_intensity', index=['Month', 'party'], columns='megye').reset_index()"
   ]
  },
  {
   "cell_type": "code",
   "execution_count": 12,
   "metadata": {},
   "outputs": [],
   "source": [
    "small3_orszagos_melt = pd.melt(small3_orszagos.drop('Fidesz',axis=1), id_vars=['Month'], value_vars=[ 'Together', 'Momentum Movement', 'Dialogue for Hungary'])\n",
    "small3_orszagos_melt.rename(columns = {'variable':'party','value':'orszagos'},inplace=True)"
   ]
  },
  {
   "cell_type": "code",
   "execution_count": 13,
   "metadata": {},
   "outputs": [],
   "source": [
    "all_megye_meltpivot = top5meltpivot.append(small3meltpivot)\n",
    "all_orszagos_melt = top5_orszagos_melt.append(small3_orszagos_melt)"
   ]
  },
  {
   "cell_type": "code",
   "execution_count": 14,
   "metadata": {},
   "outputs": [],
   "source": [
    "regressdf = all_megye_meltpivot.merge(all_orszagos_melt,on=['Month', 'party'])"
   ]
  },
  {
   "cell_type": "code",
   "execution_count": 39,
   "metadata": {},
   "outputs": [],
   "source": [
    "y = regressdf['orszagos']\n",
    "X = regressdf[[1,          2,          3,          4,\n",
    "                5,          6,          7,          8,          9,         10,\n",
    "               11,         12,         13,         14,         15,         16,\n",
    "               17,         18,         19,         20]]"
   ]
  },
  {
   "cell_type": "code",
   "execution_count": 49,
   "metadata": {},
   "outputs": [],
   "source": [
    "megyesulyok = np.linalg.inv(X.transpose().dot(X)).dot(X.transpose()).dot(y)"
   ]
  },
  {
   "cell_type": "code",
   "execution_count": 50,
   "metadata": {},
   "outputs": [
    {
     "data": {
      "text/plain": [
       "array([-342.5520631 ,  274.38510606,  126.15351491,   -1.10597281,\n",
       "        105.83886981,  750.09537325,   86.55798621,  217.27259296,\n",
       "        -38.40392642, -504.15556699,  405.53813707, -123.78473604,\n",
       "        -91.36867771, -400.05228484,  284.02785082, -307.90034991,\n",
       "       -207.15939294,  229.44657743, -372.94381578,  457.63234367])"
      ]
     },
     "execution_count": 50,
     "metadata": {},
     "output_type": "execute_result"
    }
   ],
   "source": [
    "megyesulyok"
   ]
  },
  {
   "cell_type": "code",
   "execution_count": 19,
   "metadata": {},
   "outputs": [],
   "source": [
    "all_megye = top5_megyek.merge(small3_megyek.drop('Fidesz',axis=1),on=['Month','megye'])"
   ]
  },
  {
   "cell_type": "code",
   "execution_count": 21,
   "metadata": {},
   "outputs": [],
   "source": [
    "all_megye['sum_search_index']=all_megye.sum(axis=1,numeric_only=True)-all_megye['megye']"
   ]
  },
  {
   "cell_type": "code",
   "execution_count": 24,
   "metadata": {},
   "outputs": [
    {
     "data": {
      "text/plain": [
       "Index(['Month', 'Fidesz', 'Jobbik', 'Hungarian Socialist Party',\n",
       "       'Democratic Coalition', 'Politics Can Be Different', 'megye',\n",
       "       'Together', 'Momentum Movement', 'Dialogue for Hungary',\n",
       "       'sum_search_index'],\n",
       "      dtype='object')"
      ]
     },
     "execution_count": 24,
     "metadata": {},
     "output_type": "execute_result"
    }
   ],
   "source": [
    "all_megye.columns"
   ]
  },
  {
   "cell_type": "code",
   "execution_count": 54,
   "metadata": {},
   "outputs": [],
   "source": [
    "megye_aranyok = pd.concat(copy = False,axis = 1, objs = [all_megye[['megye','Month']],all_megye[['Fidesz', 'Jobbik', 'Hungarian Socialist Party',\n",
    "       'Democratic Coalition', 'Politics Can Be Different',\n",
    "       'Together', 'Momentum Movement', 'Dialogue for Hungary']].div(all_megye['sum_search_index'], axis=0).fillna(0)])"
   ]
  },
  {
   "cell_type": "code",
   "execution_count": 55,
   "metadata": {},
   "outputs": [
    {
     "data": {
      "text/html": [
       "<div>\n",
       "<style>\n",
       "    .dataframe thead tr:only-child th {\n",
       "        text-align: right;\n",
       "    }\n",
       "\n",
       "    .dataframe thead th {\n",
       "        text-align: left;\n",
       "    }\n",
       "\n",
       "    .dataframe tbody tr th {\n",
       "        vertical-align: top;\n",
       "    }\n",
       "</style>\n",
       "<table border=\"1\" class=\"dataframe\">\n",
       "  <thead>\n",
       "    <tr style=\"text-align: right;\">\n",
       "      <th></th>\n",
       "      <th>megye</th>\n",
       "      <th>Month</th>\n",
       "      <th>Fidesz</th>\n",
       "      <th>Jobbik</th>\n",
       "      <th>Hungarian Socialist Party</th>\n",
       "      <th>Democratic Coalition</th>\n",
       "      <th>Politics Can Be Different</th>\n",
       "      <th>Together</th>\n",
       "      <th>Momentum Movement</th>\n",
       "      <th>Dialogue for Hungary</th>\n",
       "    </tr>\n",
       "  </thead>\n",
       "  <tbody>\n",
       "    <tr>\n",
       "      <th>0</th>\n",
       "      <td>3</td>\n",
       "      <td>2004-01</td>\n",
       "      <td>0.0</td>\n",
       "      <td>0.0</td>\n",
       "      <td>0.0</td>\n",
       "      <td>0.0</td>\n",
       "      <td>0.0</td>\n",
       "      <td>0.0</td>\n",
       "      <td>0.0</td>\n",
       "      <td>0.0</td>\n",
       "    </tr>\n",
       "    <tr>\n",
       "      <th>1</th>\n",
       "      <td>3</td>\n",
       "      <td>2004-02</td>\n",
       "      <td>0.0</td>\n",
       "      <td>0.0</td>\n",
       "      <td>0.0</td>\n",
       "      <td>0.0</td>\n",
       "      <td>0.0</td>\n",
       "      <td>0.0</td>\n",
       "      <td>0.0</td>\n",
       "      <td>0.0</td>\n",
       "    </tr>\n",
       "    <tr>\n",
       "      <th>2</th>\n",
       "      <td>3</td>\n",
       "      <td>2004-03</td>\n",
       "      <td>0.0</td>\n",
       "      <td>0.0</td>\n",
       "      <td>0.0</td>\n",
       "      <td>0.0</td>\n",
       "      <td>0.0</td>\n",
       "      <td>0.0</td>\n",
       "      <td>0.0</td>\n",
       "      <td>0.0</td>\n",
       "    </tr>\n",
       "    <tr>\n",
       "      <th>3</th>\n",
       "      <td>3</td>\n",
       "      <td>2004-04</td>\n",
       "      <td>0.0</td>\n",
       "      <td>0.0</td>\n",
       "      <td>0.5</td>\n",
       "      <td>0.5</td>\n",
       "      <td>0.0</td>\n",
       "      <td>0.0</td>\n",
       "      <td>0.0</td>\n",
       "      <td>0.0</td>\n",
       "    </tr>\n",
       "    <tr>\n",
       "      <th>4</th>\n",
       "      <td>3</td>\n",
       "      <td>2004-05</td>\n",
       "      <td>0.0</td>\n",
       "      <td>0.0</td>\n",
       "      <td>0.0</td>\n",
       "      <td>0.0</td>\n",
       "      <td>0.0</td>\n",
       "      <td>0.0</td>\n",
       "      <td>0.0</td>\n",
       "      <td>0.0</td>\n",
       "    </tr>\n",
       "  </tbody>\n",
       "</table>\n",
       "</div>"
      ],
      "text/plain": [
       "   megye    Month  Fidesz  Jobbik  Hungarian Socialist Party  \\\n",
       "0      3  2004-01     0.0     0.0                        0.0   \n",
       "1      3  2004-02     0.0     0.0                        0.0   \n",
       "2      3  2004-03     0.0     0.0                        0.0   \n",
       "3      3  2004-04     0.0     0.0                        0.5   \n",
       "4      3  2004-05     0.0     0.0                        0.0   \n",
       "\n",
       "   Democratic Coalition  Politics Can Be Different  Together  \\\n",
       "0                   0.0                        0.0       0.0   \n",
       "1                   0.0                        0.0       0.0   \n",
       "2                   0.0                        0.0       0.0   \n",
       "3                   0.5                        0.0       0.0   \n",
       "4                   0.0                        0.0       0.0   \n",
       "\n",
       "   Momentum Movement  Dialogue for Hungary  \n",
       "0                0.0                   0.0  \n",
       "1                0.0                   0.0  \n",
       "2                0.0                   0.0  \n",
       "3                0.0                   0.0  \n",
       "4                0.0                   0.0  "
      ]
     },
     "execution_count": 55,
     "metadata": {},
     "output_type": "execute_result"
    }
   ],
   "source": [
    "megye_aranyok.head()"
   ]
  },
  {
   "cell_type": "code",
   "execution_count": 57,
   "metadata": {},
   "outputs": [],
   "source": [
    "all_orszagos = top5_orszagos.merge(small3_orszagos.drop('Fidesz',axis=1),on=['Month'])\n",
    "all_orszagos['sum_search_index']=all_orszagos.sum(axis=1,numeric_only=True)\n",
    "orszagos_aranyok = pd.concat(copy = False,axis = 1, objs = [all_orszagos['Month'],all_orszagos[['Fidesz', 'Jobbik', 'Hungarian Socialist Party',\n",
    "       'Democratic Coalition', 'Politics Can Be Different',\n",
    "       'Together', 'Momentum Movement', 'Dialogue for Hungary']].div(all_orszagos['sum_search_index'], axis=0).fillna(0)])"
   ]
  },
  {
   "cell_type": "code",
   "execution_count": 59,
   "metadata": {},
   "outputs": [
    {
     "data": {
      "text/html": [
       "<div>\n",
       "<style>\n",
       "    .dataframe thead tr:only-child th {\n",
       "        text-align: right;\n",
       "    }\n",
       "\n",
       "    .dataframe thead th {\n",
       "        text-align: left;\n",
       "    }\n",
       "\n",
       "    .dataframe tbody tr th {\n",
       "        vertical-align: top;\n",
       "    }\n",
       "</style>\n",
       "<table border=\"1\" class=\"dataframe\">\n",
       "  <thead>\n",
       "    <tr style=\"text-align: right;\">\n",
       "      <th></th>\n",
       "      <th>Month</th>\n",
       "      <th>Fidesz</th>\n",
       "      <th>Jobbik</th>\n",
       "      <th>Hungarian Socialist Party</th>\n",
       "      <th>Democratic Coalition</th>\n",
       "      <th>Politics Can Be Different</th>\n",
       "      <th>Together</th>\n",
       "      <th>Momentum Movement</th>\n",
       "      <th>Dialogue for Hungary</th>\n",
       "    </tr>\n",
       "  </thead>\n",
       "  <tbody>\n",
       "    <tr>\n",
       "      <th>0</th>\n",
       "      <td>2004-01</td>\n",
       "      <td>0.280000</td>\n",
       "      <td>0.280000</td>\n",
       "      <td>0.240000</td>\n",
       "      <td>0.040000</td>\n",
       "      <td>0.0</td>\n",
       "      <td>0.000000</td>\n",
       "      <td>0.040000</td>\n",
       "      <td>0.120000</td>\n",
       "    </tr>\n",
       "    <tr>\n",
       "      <th>1</th>\n",
       "      <td>2004-02</td>\n",
       "      <td>0.222222</td>\n",
       "      <td>0.166667</td>\n",
       "      <td>0.055556</td>\n",
       "      <td>0.333333</td>\n",
       "      <td>0.0</td>\n",
       "      <td>0.055556</td>\n",
       "      <td>0.000000</td>\n",
       "      <td>0.166667</td>\n",
       "    </tr>\n",
       "    <tr>\n",
       "      <th>2</th>\n",
       "      <td>2004-03</td>\n",
       "      <td>0.357143</td>\n",
       "      <td>0.071429</td>\n",
       "      <td>0.321429</td>\n",
       "      <td>0.071429</td>\n",
       "      <td>0.0</td>\n",
       "      <td>0.071429</td>\n",
       "      <td>0.000000</td>\n",
       "      <td>0.107143</td>\n",
       "    </tr>\n",
       "    <tr>\n",
       "      <th>3</th>\n",
       "      <td>2004-04</td>\n",
       "      <td>0.600000</td>\n",
       "      <td>0.088889</td>\n",
       "      <td>0.200000</td>\n",
       "      <td>0.022222</td>\n",
       "      <td>0.0</td>\n",
       "      <td>0.000000</td>\n",
       "      <td>0.022222</td>\n",
       "      <td>0.066667</td>\n",
       "    </tr>\n",
       "    <tr>\n",
       "      <th>4</th>\n",
       "      <td>2004-05</td>\n",
       "      <td>0.586207</td>\n",
       "      <td>0.000000</td>\n",
       "      <td>0.310345</td>\n",
       "      <td>0.000000</td>\n",
       "      <td>0.0</td>\n",
       "      <td>0.000000</td>\n",
       "      <td>0.034483</td>\n",
       "      <td>0.068966</td>\n",
       "    </tr>\n",
       "  </tbody>\n",
       "</table>\n",
       "</div>"
      ],
      "text/plain": [
       "     Month    Fidesz    Jobbik  Hungarian Socialist Party  \\\n",
       "0  2004-01  0.280000  0.280000                   0.240000   \n",
       "1  2004-02  0.222222  0.166667                   0.055556   \n",
       "2  2004-03  0.357143  0.071429                   0.321429   \n",
       "3  2004-04  0.600000  0.088889                   0.200000   \n",
       "4  2004-05  0.586207  0.000000                   0.310345   \n",
       "\n",
       "   Democratic Coalition  Politics Can Be Different  Together  \\\n",
       "0              0.040000                        0.0  0.000000   \n",
       "1              0.333333                        0.0  0.055556   \n",
       "2              0.071429                        0.0  0.071429   \n",
       "3              0.022222                        0.0  0.000000   \n",
       "4              0.000000                        0.0  0.000000   \n",
       "\n",
       "   Momentum Movement  Dialogue for Hungary  \n",
       "0           0.040000              0.120000  \n",
       "1           0.000000              0.166667  \n",
       "2           0.000000              0.107143  \n",
       "3           0.022222              0.066667  \n",
       "4           0.034483              0.068966  "
      ]
     },
     "execution_count": 59,
     "metadata": {},
     "output_type": "execute_result"
    }
   ],
   "source": [
    "orszagos_aranyok.head()"
   ]
  },
  {
   "cell_type": "code",
   "execution_count": 65,
   "metadata": {},
   "outputs": [],
   "source": [
    "orszagos_aranyok.to_csv('GTrend_orszagos_aranyok.csv',index=False)"
   ]
  },
  {
   "cell_type": "code",
   "execution_count": 64,
   "metadata": {},
   "outputs": [],
   "source": [
    "megye_aranyok.to_csv('GTrend_megye_aranyok.csv',index=False)"
   ]
  },
  {
   "cell_type": "code",
   "execution_count": null,
   "metadata": {},
   "outputs": [],
   "source": []
  }
 ],
 "metadata": {
  "kernelspec": {
   "display_name": "Python 3",
   "language": "python",
   "name": "python3"
  },
  "language_info": {
   "codemirror_mode": {
    "name": "ipython",
    "version": 3
   },
   "file_extension": ".py",
   "mimetype": "text/x-python",
   "name": "python",
   "nbconvert_exporter": "python",
   "pygments_lexer": "ipython3",
   "version": "3.6.3"
  }
 },
 "nbformat": 4,
 "nbformat_minor": 2
}
