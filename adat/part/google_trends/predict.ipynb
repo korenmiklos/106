{
 "cells": [
  {
   "cell_type": "code",
   "execution_count": 229,
   "metadata": {},
   "outputs": [],
   "source": [
    "import pandas as pd\n",
    "import numpy as np\n",
    "import matplotlib.pyplot as plt\n",
    "from sklearn import linear_model\n",
    "from sklearn.model_selection import LeaveOneGroupOut\n",
    "from sklearn.model_selection import cross_val_score"
   ]
  },
  {
   "cell_type": "code",
   "execution_count": 230,
   "metadata": {},
   "outputs": [],
   "source": [
    "gtmegye = pd.read_csv('GTrend_megye_aranyok1118.csv')"
   ]
  },
  {
   "cell_type": "code",
   "execution_count": 231,
   "metadata": {},
   "outputs": [],
   "source": [
    "# no need with László's files, necessary with Miklós's output:\n",
    "#gtmelt = pd.melt(gtmegye, id_vars=['honap','megye'], value_vars=['fidesz','lmp','mszp','jobbik','egyutt','momentum','pm','dk'])\n",
    "#gtmelt.rename(columns={'variable':'part','value':'search_intensity'},inplace=True)\n",
    "gtmelt = gtmegye.rename(columns={'Month':'honap','party':'szervezet'})"
   ]
  },
  {
   "cell_type": "code",
   "execution_count": 232,
   "metadata": {},
   "outputs": [],
   "source": [
    "# need to ignore 2010 for now\n",
    "gtmelt14 = gtmelt.loc[gtmelt['honap'].isin(['2014-01','2014-02','2014-03'])]"
   ]
  },
  {
   "cell_type": "code",
   "execution_count": 233,
   "metadata": {},
   "outputs": [],
   "source": [
    "# not compatible with 2010\n",
    "gtmelt14_nobal = gtmelt14.loc[~gtmelt14['szervezet'].isin(['mszp','egyutt','dk','pm'])]\n",
    "gtmelt14_bal = gtmelt14.loc[gtmelt14['szervezet'].isin(['mszp','egyutt','dk','pm'])]"
   ]
  },
  {
   "cell_type": "code",
   "execution_count": 234,
   "metadata": {},
   "outputs": [],
   "source": [
    "gtmelt14_bal = gtmelt14_bal.groupby(['honap','megye'])['search_intensity'].sum().reset_index()"
   ]
  },
  {
   "cell_type": "code",
   "execution_count": 235,
   "metadata": {},
   "outputs": [],
   "source": [
    "gtmelt14_bal['szervezet'] = 'baloldal'"
   ]
  },
  {
   "cell_type": "code",
   "execution_count": 236,
   "metadata": {},
   "outputs": [],
   "source": [
    "gtmelt14 = gtmelt14_nobal.append(gtmelt14_bal)"
   ]
  },
  {
   "cell_type": "code",
   "execution_count": 237,
   "metadata": {},
   "outputs": [],
   "source": [
    "gtmelt14['ev'],gtmelt14['ho']=gtmelt14['honap'].str.split('-').str"
   ]
  },
  {
   "cell_type": "code",
   "execution_count": 238,
   "metadata": {},
   "outputs": [
    {
     "data": {
      "text/html": [
       "<div>\n",
       "<style scoped>\n",
       "    .dataframe tbody tr th:only-of-type {\n",
       "        vertical-align: middle;\n",
       "    }\n",
       "\n",
       "    .dataframe tbody tr th {\n",
       "        vertical-align: top;\n",
       "    }\n",
       "\n",
       "    .dataframe thead th {\n",
       "        text-align: right;\n",
       "    }\n",
       "</style>\n",
       "<table border=\"1\" class=\"dataframe\">\n",
       "  <thead>\n",
       "    <tr style=\"text-align: right;\">\n",
       "      <th></th>\n",
       "      <th>honap</th>\n",
       "      <th>megye</th>\n",
       "      <th>search_intensity</th>\n",
       "      <th>szervezet</th>\n",
       "      <th>ev</th>\n",
       "      <th>ho</th>\n",
       "    </tr>\n",
       "  </thead>\n",
       "  <tbody>\n",
       "    <tr>\n",
       "      <th>5762</th>\n",
       "      <td>2014-01</td>\n",
       "      <td>1</td>\n",
       "      <td>0.240876</td>\n",
       "      <td>fidesz</td>\n",
       "      <td>2014</td>\n",
       "      <td>01</td>\n",
       "    </tr>\n",
       "    <tr>\n",
       "      <th>5763</th>\n",
       "      <td>2014-01</td>\n",
       "      <td>1</td>\n",
       "      <td>0.182482</td>\n",
       "      <td>jobbik</td>\n",
       "      <td>2014</td>\n",
       "      <td>01</td>\n",
       "    </tr>\n",
       "    <tr>\n",
       "      <th>5764</th>\n",
       "      <td>2014-01</td>\n",
       "      <td>1</td>\n",
       "      <td>0.072993</td>\n",
       "      <td>lmp</td>\n",
       "      <td>2014</td>\n",
       "      <td>01</td>\n",
       "    </tr>\n",
       "    <tr>\n",
       "      <th>5765</th>\n",
       "      <td>2014-01</td>\n",
       "      <td>1</td>\n",
       "      <td>0.000000</td>\n",
       "      <td>momentum</td>\n",
       "      <td>2014</td>\n",
       "      <td>01</td>\n",
       "    </tr>\n",
       "    <tr>\n",
       "      <th>5770</th>\n",
       "      <td>2014-01</td>\n",
       "      <td>2</td>\n",
       "      <td>0.154362</td>\n",
       "      <td>fidesz</td>\n",
       "      <td>2014</td>\n",
       "      <td>01</td>\n",
       "    </tr>\n",
       "  </tbody>\n",
       "</table>\n",
       "</div>"
      ],
      "text/plain": [
       "        honap  megye  search_intensity szervezet    ev  ho\n",
       "5762  2014-01      1          0.240876    fidesz  2014  01\n",
       "5763  2014-01      1          0.182482    jobbik  2014  01\n",
       "5764  2014-01      1          0.072993       lmp  2014  01\n",
       "5765  2014-01      1          0.000000  momentum  2014  01\n",
       "5770  2014-01      2          0.154362    fidesz  2014  01"
      ]
     },
     "execution_count": 238,
     "metadata": {},
     "output_type": "execute_result"
    }
   ],
   "source": [
    "gtmelt14.head()"
   ]
  },
  {
   "cell_type": "code",
   "execution_count": 239,
   "metadata": {},
   "outputs": [],
   "source": [
    "gtmelt14.drop(columns='honap',inplace=True)"
   ]
  },
  {
   "cell_type": "code",
   "execution_count": 240,
   "metadata": {},
   "outputs": [],
   "source": [
    "gt14_hopivot = gtmelt14.pivot_table(values='search_intensity', index=['ev', 'szervezet','megye'], columns='ho').reset_index()"
   ]
  },
  {
   "cell_type": "markdown",
   "metadata": {},
   "source": [
    "## Missing:\n",
    "-    MDF search for 2010 — de ha úgyis újra, akkor szűkebb időtartamra, és a két csúcspártot vagy a legkisebb nagypártot tartani a kispártosban?\n",
    "-    civilek, mszdp, mp stb? UPDATE: max a civilek kellenek\n",
    "-    set search intensity for dk to 0 before oct 22, 2011, set pm to 0 before feb 17, 2013, set együtt to 0 before oct 26, 2012?\n",
    "-    kétfarkú?\n",
    "-    megyei összesítés és arányok 2010\n",
    "-    ridge vagy súlyozott ridge?"
   ]
  },
  {
   "cell_type": "markdown",
   "metadata": {},
   "source": [
    "## 2010-es listás adatok -- SKIP"
   ]
  },
  {
   "cell_type": "code",
   "execution_count": 241,
   "metadata": {},
   "outputs": [],
   "source": [
    "# listas10 = pd.read_csv('/Users/laszlo.sandor/Documents/github/106/adat/2010/listas.csv')"
   ]
  },
  {
   "cell_type": "code",
   "execution_count": 242,
   "metadata": {},
   "outputs": [],
   "source": [
    "# listas10.head()"
   ]
  },
  {
   "cell_type": "code",
   "execution_count": 243,
   "metadata": {},
   "outputs": [],
   "source": [
    "# part_to_szervezet = pd.read_csv('/Users/laszlo.sandor/Documents/github/106/adat/2010/szervezet_shortname.csv')"
   ]
  },
  {
   "cell_type": "code",
   "execution_count": 244,
   "metadata": {},
   "outputs": [],
   "source": [
    "# part_to_szervezet.head()"
   ]
  },
  {
   "cell_type": "code",
   "execution_count": 245,
   "metadata": {},
   "outputs": [],
   "source": [
    "# listas10 = listas10.merge(part_to_szervezet,left_on='part',right_on='id',copy=False)"
   ]
  },
  {
   "cell_type": "code",
   "execution_count": 246,
   "metadata": {},
   "outputs": [],
   "source": [
    "# listas10 = listas10[~listas10['szervezet'].isin(['miép','mp','mszdp'])]"
   ]
  },
  {
   "cell_type": "code",
   "execution_count": 247,
   "metadata": {},
   "outputs": [],
   "source": [
    "# listas10['megye']=listas10['id'].str.extract('M(\\d\\d)/.*').astype('uint8')"
   ]
  },
  {
   "cell_type": "code",
   "execution_count": 248,
   "metadata": {},
   "outputs": [],
   "source": [
    "# listas10megyei = listas10.groupby(['megye','szervezet'])['szavazat'].sum()#.reset_index()"
   ]
  },
  {
   "cell_type": "code",
   "execution_count": 249,
   "metadata": {},
   "outputs": [],
   "source": [
    "# listas10megyeiaranyok = listas10megyei.groupby(level=0).apply(lambda x: x / float(x.sum())).reset_index()"
   ]
  },
  {
   "cell_type": "code",
   "execution_count": 250,
   "metadata": {},
   "outputs": [],
   "source": [
    "# listas10megyeiaranyok.head()"
   ]
  },
  {
   "cell_type": "markdown",
   "metadata": {},
   "source": [
    "## 2014-es listás adatok"
   ]
  },
  {
   "cell_type": "code",
   "execution_count": 251,
   "metadata": {},
   "outputs": [],
   "source": [
    "listas14 = pd.read_csv('/Users/laszlo.sandor/Documents/github/106/adat/jelolt/listas.csv')"
   ]
  },
  {
   "cell_type": "code",
   "execution_count": 252,
   "metadata": {},
   "outputs": [],
   "source": [
    "part_to_szervezet14 = pd.read_csv('/Users/laszlo.sandor/Documents/github/106/adat/jelolt/szervezet_shortname_2014.csv')"
   ]
  },
  {
   "cell_type": "code",
   "execution_count": 253,
   "metadata": {},
   "outputs": [
    {
     "data": {
      "text/html": [
       "<div>\n",
       "<style scoped>\n",
       "    .dataframe tbody tr th:only-of-type {\n",
       "        vertical-align: middle;\n",
       "    }\n",
       "\n",
       "    .dataframe tbody tr th {\n",
       "        vertical-align: top;\n",
       "    }\n",
       "\n",
       "    .dataframe thead th {\n",
       "        text-align: right;\n",
       "    }\n",
       "</style>\n",
       "<table border=\"1\" class=\"dataframe\">\n",
       "  <thead>\n",
       "    <tr style=\"text-align: right;\">\n",
       "      <th></th>\n",
       "      <th>szervezet</th>\n",
       "      <th>id</th>\n",
       "    </tr>\n",
       "  </thead>\n",
       "  <tbody>\n",
       "    <tr>\n",
       "      <th>0</th>\n",
       "      <td>mcp</td>\n",
       "      <td>1</td>\n",
       "    </tr>\n",
       "    <tr>\n",
       "      <th>1</th>\n",
       "      <td>eladó</td>\n",
       "      <td>2</td>\n",
       "    </tr>\n",
       "    <tr>\n",
       "      <th>2</th>\n",
       "      <td>seres</td>\n",
       "      <td>3</td>\n",
       "    </tr>\n",
       "    <tr>\n",
       "      <th>3</th>\n",
       "      <td>fkgp</td>\n",
       "      <td>4</td>\n",
       "    </tr>\n",
       "    <tr>\n",
       "      <th>4</th>\n",
       "      <td>údp</td>\n",
       "      <td>5</td>\n",
       "    </tr>\n",
       "  </tbody>\n",
       "</table>\n",
       "</div>"
      ],
      "text/plain": [
       "  szervezet id\n",
       "0       mcp  1\n",
       "1     eladó  2\n",
       "2     seres  3\n",
       "3      fkgp  4\n",
       "4       údp  5"
      ]
     },
     "execution_count": 253,
     "metadata": {},
     "output_type": "execute_result"
    }
   ],
   "source": [
    "part_to_szervezet14.head()"
   ]
  },
  {
   "cell_type": "code",
   "execution_count": 254,
   "metadata": {},
   "outputs": [],
   "source": [
    "listas14 = listas14.merge(part_to_szervezet14,left_on='part',right_on='id',copy=False)"
   ]
  },
  {
   "cell_type": "code",
   "execution_count": 255,
   "metadata": {},
   "outputs": [
    {
     "data": {
      "text/html": [
       "<div>\n",
       "<style scoped>\n",
       "    .dataframe tbody tr th:only-of-type {\n",
       "        vertical-align: middle;\n",
       "    }\n",
       "\n",
       "    .dataframe tbody tr th {\n",
       "        vertical-align: top;\n",
       "    }\n",
       "\n",
       "    .dataframe thead th {\n",
       "        text-align: right;\n",
       "    }\n",
       "</style>\n",
       "<table border=\"1\" class=\"dataframe\">\n",
       "  <thead>\n",
       "    <tr style=\"text-align: right;\">\n",
       "      <th></th>\n",
       "      <th>szavazokor</th>\n",
       "      <th>part</th>\n",
       "      <th>szavazat</th>\n",
       "      <th>szervezet</th>\n",
       "      <th>id</th>\n",
       "    </tr>\n",
       "  </thead>\n",
       "  <tbody>\n",
       "    <tr>\n",
       "      <th>0</th>\n",
       "      <td>M01/T001/001</td>\n",
       "      <td>1</td>\n",
       "      <td>0</td>\n",
       "      <td>mcp</td>\n",
       "      <td>1</td>\n",
       "    </tr>\n",
       "    <tr>\n",
       "      <th>1</th>\n",
       "      <td>M01/T001/002</td>\n",
       "      <td>1</td>\n",
       "      <td>2</td>\n",
       "      <td>mcp</td>\n",
       "      <td>1</td>\n",
       "    </tr>\n",
       "    <tr>\n",
       "      <th>2</th>\n",
       "      <td>M01/T001/003</td>\n",
       "      <td>1</td>\n",
       "      <td>0</td>\n",
       "      <td>mcp</td>\n",
       "      <td>1</td>\n",
       "    </tr>\n",
       "    <tr>\n",
       "      <th>3</th>\n",
       "      <td>M01/T001/004</td>\n",
       "      <td>1</td>\n",
       "      <td>0</td>\n",
       "      <td>mcp</td>\n",
       "      <td>1</td>\n",
       "    </tr>\n",
       "    <tr>\n",
       "      <th>4</th>\n",
       "      <td>M01/T001/005</td>\n",
       "      <td>1</td>\n",
       "      <td>0</td>\n",
       "      <td>mcp</td>\n",
       "      <td>1</td>\n",
       "    </tr>\n",
       "  </tbody>\n",
       "</table>\n",
       "</div>"
      ],
      "text/plain": [
       "     szavazokor part  szavazat szervezet id\n",
       "0  M01/T001/001    1         0       mcp  1\n",
       "1  M01/T001/002    1         2       mcp  1\n",
       "2  M01/T001/003    1         0       mcp  1\n",
       "3  M01/T001/004    1         0       mcp  1\n",
       "4  M01/T001/005    1         0       mcp  1"
      ]
     },
     "execution_count": 255,
     "metadata": {},
     "output_type": "execute_result"
    }
   ],
   "source": [
    "listas14.head()"
   ]
  },
  {
   "cell_type": "code",
   "execution_count": 256,
   "metadata": {},
   "outputs": [],
   "source": [
    "listas14 = listas14[~listas14['szervezet'].isin(['mcp','eladó','seres','fkgp','údp','sem','jesz','úmp','mp','szd','kti','együtt','zp','öf','total'])]"
   ]
  },
  {
   "cell_type": "code",
   "execution_count": 257,
   "metadata": {},
   "outputs": [
    {
     "name": "stderr",
     "output_type": "stream",
     "text": [
      "/Users/laszlo.sandor/miniconda3/envs/idp/lib/python3.6/site-packages/ipykernel_launcher.py:1: FutureWarning: currently extract(expand=None) means expand=False (return Index/Series/DataFrame) but in a future version of pandas this will be changed to expand=True (return DataFrame)\n",
      "  \"\"\"Entry point for launching an IPython kernel.\n"
     ]
    }
   ],
   "source": [
    "listas14['megye']=listas14['szavazokor'].str.extract('M(\\d\\d)/.*').astype('uint8')"
   ]
  },
  {
   "cell_type": "code",
   "execution_count": 258,
   "metadata": {},
   "outputs": [],
   "source": [
    "listas14megyei = listas14.groupby(['megye','szervezet'])['szavazat'].sum()"
   ]
  },
  {
   "cell_type": "code",
   "execution_count": 259,
   "metadata": {},
   "outputs": [],
   "source": [
    "listas14megyeiaranyok = listas14megyei.groupby(level=0).apply(lambda x: x / float(x.sum())).reset_index()"
   ]
  },
  {
   "cell_type": "code",
   "execution_count": 260,
   "metadata": {},
   "outputs": [
    {
     "data": {
      "text/html": [
       "<div>\n",
       "<style scoped>\n",
       "    .dataframe tbody tr th:only-of-type {\n",
       "        vertical-align: middle;\n",
       "    }\n",
       "\n",
       "    .dataframe tbody tr th {\n",
       "        vertical-align: top;\n",
       "    }\n",
       "\n",
       "    .dataframe thead th {\n",
       "        text-align: right;\n",
       "    }\n",
       "</style>\n",
       "<table border=\"1\" class=\"dataframe\">\n",
       "  <thead>\n",
       "    <tr style=\"text-align: right;\">\n",
       "      <th></th>\n",
       "      <th>megye</th>\n",
       "      <th>szervezet</th>\n",
       "      <th>szavazat</th>\n",
       "    </tr>\n",
       "  </thead>\n",
       "  <tbody>\n",
       "    <tr>\n",
       "      <th>0</th>\n",
       "      <td>1</td>\n",
       "      <td>baloldal</td>\n",
       "      <td>0.381925</td>\n",
       "    </tr>\n",
       "    <tr>\n",
       "      <th>1</th>\n",
       "      <td>1</td>\n",
       "      <td>fidesz</td>\n",
       "      <td>0.399956</td>\n",
       "    </tr>\n",
       "    <tr>\n",
       "      <th>2</th>\n",
       "      <td>1</td>\n",
       "      <td>jobbik</td>\n",
       "      <td>0.125411</td>\n",
       "    </tr>\n",
       "    <tr>\n",
       "      <th>3</th>\n",
       "      <td>1</td>\n",
       "      <td>lmp</td>\n",
       "      <td>0.092708</td>\n",
       "    </tr>\n",
       "    <tr>\n",
       "      <th>4</th>\n",
       "      <td>2</td>\n",
       "      <td>baloldal</td>\n",
       "      <td>0.294771</td>\n",
       "    </tr>\n",
       "  </tbody>\n",
       "</table>\n",
       "</div>"
      ],
      "text/plain": [
       "   megye szervezet  szavazat\n",
       "0      1  baloldal  0.381925\n",
       "1      1    fidesz  0.399956\n",
       "2      1    jobbik  0.125411\n",
       "3      1       lmp  0.092708\n",
       "4      2  baloldal  0.294771"
      ]
     },
     "execution_count": 260,
     "metadata": {},
     "output_type": "execute_result"
    }
   ],
   "source": [
    "listas14megyeiaranyok.head()"
   ]
  },
  {
   "cell_type": "code",
   "execution_count": 261,
   "metadata": {},
   "outputs": [],
   "source": [
    "ridgetable14 = listas14megyeiaranyok.merge(gt14_hopivot,on=['megye','szervezet'],validate='1:1',copy=False)"
   ]
  },
  {
   "cell_type": "code",
   "execution_count": 263,
   "metadata": {},
   "outputs": [],
   "source": [
    "polls2014 = pd.read_csv('2014polls.csv',engine='c')\n",
    "ridgetable14 = ridgetable14.merge(polls2014,on=['szervezet'],validate='m:1',copy=False)\n",
    "ridgetable14['ave_polls']=ridgetable14['ave_polls']/100"
   ]
  },
  {
   "cell_type": "code",
   "execution_count": 264,
   "metadata": {},
   "outputs": [],
   "source": [
    "megyevoters = pd.read_csv('megyevoters.csv',engine='c')\n",
    "megyedict = {'bacskiskun':3,'baranya':2,'baz':5,'bekes':4,'budapest':1,'csongrad':6,'fejer':7,'gyms':8,'hb':9,'heves':10,'jnsz':11,'ke':12,'nograd':13,'pest':14,'somogy':15,'szszb':16,'tolna':17,'vas':18,'veszprem':19,'zala':20}\n",
    "megyevoters['megye'].replace(megyedict,inplace=True)\n",
    "megyevoters['voters']=megyevoters['voters']/megyevoters['voters'].sum()\n",
    "ridgetable14 = ridgetable14.merge(megyevoters,on=['megye'],validate='m:1',copy=False)"
   ]
  },
  {
   "cell_type": "markdown",
   "metadata": {},
   "source": [
    "## Fitting a ridge model\n",
    "Considerations:\n",
    "    - use also average poll numbers from January?\n",
    "    - keep all three Google Search variables?"
   ]
  },
  {
   "cell_type": "code",
   "execution_count": 265,
   "metadata": {},
   "outputs": [],
   "source": [
    "X = ridgetable14[['01','02','03','ave_polls']]\n",
    "y = ridgetable14['szavazat']\n",
    "w = ridgetable14['voters']/ridgetable14['voters'].mean()\n",
    "groups = ridgetable14['megye']"
   ]
  },
  {
   "cell_type": "code",
   "execution_count": 266,
   "metadata": {},
   "outputs": [],
   "source": [
    "alphas = np.logspace(-10, 2, 2000)"
   ]
  },
  {
   "cell_type": "code",
   "execution_count": 267,
   "metadata": {},
   "outputs": [
    {
     "data": {
      "text/plain": [
       "RidgeCV(alphas=array([1.00000e-10, 1.01392e-10, ..., 9.86273e+01, 1.00000e+02]),\n",
       "    cv=None, fit_intercept=False, gcv_mode=None, normalize=False,\n",
       "    scoring=None, store_cv_values=True)"
      ]
     },
     "execution_count": 267,
     "metadata": {},
     "output_type": "execute_result"
    }
   ],
   "source": [
    "model1 = linear_model.RidgeCV(alphas, fit_intercept=False, normalize=False, scoring=None, cv=None, gcv_mode=None, store_cv_values=True)\n",
    "model1.fit(X,y,sample_weight=w)"
   ]
  },
  {
   "cell_type": "code",
   "execution_count": 268,
   "metadata": {},
   "outputs": [
    {
     "data": {
      "text/plain": [
       "array([-0.05020815,  0.06009836,  0.15201181,  0.78588069])"
      ]
     },
     "execution_count": 268,
     "metadata": {},
     "output_type": "execute_result"
    }
   ],
   "source": [
    "model1.coef_"
   ]
  },
  {
   "cell_type": "code",
   "execution_count": 269,
   "metadata": {},
   "outputs": [
    {
     "data": {
      "text/plain": [
       "0.05132809872422098"
      ]
     },
     "execution_count": 269,
     "metadata": {},
     "output_type": "execute_result"
    }
   ],
   "source": [
    "model1.alpha_"
   ]
  },
  {
   "cell_type": "markdown",
   "metadata": {},
   "source": [
    "## Rerun CV with proper leave-one-group-out cross-validation but weird weighting"
   ]
  },
  {
   "cell_type": "code",
   "execution_count": 270,
   "metadata": {},
   "outputs": [],
   "source": [
    "logo = LeaveOneGroupOut()"
   ]
  },
  {
   "cell_type": "code",
   "execution_count": 271,
   "metadata": {},
   "outputs": [
    {
     "data": {
      "text/plain": [
       "RidgeCV(alphas=array([1.00000e-10, 1.01392e-10, ..., 9.86273e+01, 1.00000e+02]),\n",
       "    cv=<generator object BaseCrossValidator.split at 0x303a34d4c0>,\n",
       "    fit_intercept=False, gcv_mode=None, normalize=False, scoring=None,\n",
       "    store_cv_values=False)"
      ]
     },
     "execution_count": 271,
     "metadata": {},
     "output_type": "execute_result"
    }
   ],
   "source": [
    "model2 = linear_model.RidgeCV(alphas, fit_intercept=False, normalize=False, scoring=None, cv=logo.split(X, y, groups=groups), gcv_mode=None)#, store_cv_values=True)\n",
    "model2.fit(X,y,sample_weight=w)"
   ]
  },
  {
   "cell_type": "code",
   "execution_count": 272,
   "metadata": {},
   "outputs": [
    {
     "data": {
      "text/plain": [
       "array([-0.0695079 ,  0.05363325,  0.15562762,  0.80805572])"
      ]
     },
     "execution_count": 272,
     "metadata": {},
     "output_type": "execute_result"
    }
   ],
   "source": [
    "model2.coef_"
   ]
  },
  {
   "cell_type": "code",
   "execution_count": 273,
   "metadata": {},
   "outputs": [
    {
     "data": {
      "text/plain": [
       "0.017706146858616094"
      ]
     },
     "execution_count": 273,
     "metadata": {},
     "output_type": "execute_result"
    }
   ],
   "source": [
    "model2.alpha_"
   ]
  },
  {
   "cell_type": "code",
   "execution_count": 274,
   "metadata": {},
   "outputs": [],
   "source": [
    "model2eval = linear_model.Ridge(model2.alpha_, fit_intercept=False, normalize=False)\n",
    "scores = cross_val_score(model2eval, X, y, cv=logo.split(X, y, groups=groups),scoring='neg_mean_squared_error')"
   ]
  },
  {
   "cell_type": "code",
   "execution_count": 275,
   "metadata": {},
   "outputs": [
    {
     "data": {
      "text/plain": [
       "-0.0027892465539526706"
      ]
     },
     "execution_count": 275,
     "metadata": {},
     "output_type": "execute_result"
    }
   ],
   "source": [
    "scores.mean()"
   ]
  },
  {
   "cell_type": "code",
   "execution_count": 276,
   "metadata": {},
   "outputs": [
    {
     "data": {
      "text/plain": [
       "0.10562663592016307"
      ]
     },
     "execution_count": 276,
     "metadata": {},
     "output_type": "execute_result"
    }
   ],
   "source": [
    "2*np.sqrt(-scores.mean())"
   ]
  },
  {
   "cell_type": "markdown",
   "metadata": {},
   "source": [
    "## Evaluating MSE as a function of the regularization -- This only works after store_cv_values, which only works with simple LOO cross-validation"
   ]
  },
  {
   "cell_type": "code",
   "execution_count": 277,
   "metadata": {},
   "outputs": [],
   "source": [
    "mses_by_alphas = model1.cv_values_.mean(axis=0)"
   ]
  },
  {
   "cell_type": "code",
   "execution_count": 278,
   "metadata": {},
   "outputs": [
    {
     "data": {
      "text/plain": [
       "0.002989332646123781"
      ]
     },
     "execution_count": 278,
     "metadata": {},
     "output_type": "execute_result"
    }
   ],
   "source": [
    "mses_by_alphas.min()"
   ]
  },
  {
   "cell_type": "code",
   "execution_count": 279,
   "metadata": {},
   "outputs": [
    {
     "data": {
      "text/plain": [
       "0.1093495797179629"
      ]
     },
     "execution_count": 279,
     "metadata": {},
     "output_type": "execute_result"
    }
   ],
   "source": [
    "2*np.sqrt(mses_by_alphas.min())"
   ]
  },
  {
   "cell_type": "code",
   "execution_count": 280,
   "metadata": {},
   "outputs": [
    {
     "data": {
      "image/png": "[encoded data removed]",
      "text/plain": [
       "<matplotlib.figure.Figure at 0x303cf93ef0>"
      ]
     },
     "metadata": {},
     "output_type": "display_data"
    }
   ],
   "source": [
    "# #############################################################################\n",
    "# Display results \n",
    "\n",
    "ax = plt.gca()\n",
    "\n",
    "ax.plot(alphas, mses_by_alphas)\n",
    "ax.set_xscale('log')\n",
    "ax.set_xlim(ax.get_xlim()[::-1])  # reverse axis\n",
    "plt.xlabel('alpha')\n",
    "plt.ylabel('MSE in leave-one-out CV')\n",
    "plt.title('MSE as a function of the regularization')\n",
    "plt.axis('tight')\n",
    "plt.show()"
   ]
  },
  {
   "cell_type": "markdown",
   "metadata": {},
   "source": [
    "### Explore coefs in terms of regularization"
   ]
  },
  {
   "cell_type": "code",
   "execution_count": null,
   "metadata": {},
   "outputs": [],
   "source": [
    "# #############################################################################\n",
    "# Compute paths\n",
    "\n",
    "n_alphas = 200\n",
    "alphas = np.logspace(-10, 2, n_alphas)\n",
    "\n",
    "coefs = []\n",
    "for a in alphas:\n",
    "    ridge = linear_model.Ridge(alpha=a, fit_intercept=False)\n",
    "    ridge.fit(X, y)\n",
    "    coefs.append(ridge.coef_)\n",
    "\n",
    "# #############################################################################\n",
    "# Display results\n",
    "\n",
    "ax = plt.gca()\n",
    "\n",
    "ax.plot(alphas, coefs)\n",
    "ax.set_xscale('log')\n",
    "ax.set_xlim(ax.get_xlim()[::-1])  # reverse axis\n",
    "plt.xlabel('alpha')\n",
    "plt.ylabel('weights')\n",
    "plt.title('Ridge coefficients as a function of the regularization')\n",
    "plt.axis('tight')\n",
    "plt.show()"
   ]
  },
  {
   "cell_type": "markdown",
   "metadata": {},
   "source": [
    "## Check correlation patterns of regressors, maybe average the correlated ones?"
   ]
  },
  {
   "cell_type": "code",
   "execution_count": 281,
   "metadata": {},
   "outputs": [],
   "source": [
    "def wm(x, w):\n",
    "    \"\"\"Weighted Mean\"\"\"\n",
    "    return np.sum(x * w) / np.sum(w)\n",
    "def wcov(x, y, w):\n",
    "    \"\"\"Weighted Covariance\"\"\"\n",
    "    return np.sum(w * (x - wm(x, w)) * (y - wm(y, w))) / np.sum(w)\n",
    "def wcorr(x, y, w):\n",
    "    \"\"\"Weighted Correlation\"\"\"\n",
    "    return wcov(x, y, w) / np.sqrt(wcov(x, x, w) * wcov(y, y, w))"
   ]
  },
  {
   "cell_type": "code",
   "execution_count": 282,
   "metadata": {},
   "outputs": [
    {
     "data": {
      "text/plain": [
       "0.7851418504128099"
      ]
     },
     "execution_count": 282,
     "metadata": {},
     "output_type": "execute_result"
    }
   ],
   "source": [
    "wcorr(ridgetable14['01'],ridgetable14['02'],ridgetable14['voters'])"
   ]
  },
  {
   "cell_type": "code",
   "execution_count": 283,
   "metadata": {},
   "outputs": [
    {
     "data": {
      "text/plain": [
       "0.5551497767488874"
      ]
     },
     "execution_count": 283,
     "metadata": {},
     "output_type": "execute_result"
    }
   ],
   "source": [
    "wcorr(ridgetable14['01'],ridgetable14['03'],ridgetable14['voters'])"
   ]
  },
  {
   "cell_type": "code",
   "execution_count": 284,
   "metadata": {},
   "outputs": [
    {
     "data": {
      "text/plain": [
       "0.6915313119299836"
      ]
     },
     "execution_count": 284,
     "metadata": {},
     "output_type": "execute_result"
    }
   ],
   "source": [
    "wcorr(ridgetable14['02'],ridgetable14['03'],ridgetable14['voters'])"
   ]
  },
  {
   "cell_type": "code",
   "execution_count": 285,
   "metadata": {},
   "outputs": [
    {
     "data": {
      "text/plain": [
       "0.6852724104544767"
      ]
     },
     "execution_count": 285,
     "metadata": {},
     "output_type": "execute_result"
    }
   ],
   "source": [
    "wcorr(ridgetable14['01'],ridgetable14['ave_polls'],ridgetable14['voters'])"
   ]
  },
  {
   "cell_type": "code",
   "execution_count": 286,
   "metadata": {},
   "outputs": [
    {
     "data": {
      "text/plain": [
       "0.6217556579019654"
      ]
     },
     "execution_count": 286,
     "metadata": {},
     "output_type": "execute_result"
    }
   ],
   "source": [
    "wcorr(ridgetable14['02'],ridgetable14['ave_polls'],ridgetable14['voters'])"
   ]
  },
  {
   "cell_type": "code",
   "execution_count": 287,
   "metadata": {},
   "outputs": [
    {
     "data": {
      "text/plain": [
       "0.4116345630597129"
      ]
     },
     "execution_count": 287,
     "metadata": {},
     "output_type": "execute_result"
    }
   ],
   "source": [
    "wcorr(ridgetable14['03'],ridgetable14['ave_polls'],ridgetable14['voters'])"
   ]
  },
  {
   "cell_type": "markdown",
   "metadata": {},
   "source": [
    "## Rerun LOO CV-d but weighted model with fewer variables"
   ]
  },
  {
   "cell_type": "code",
   "execution_count": 288,
   "metadata": {},
   "outputs": [
    {
     "data": {
      "text/plain": [
       "RidgeCV(alphas=array([1.00000e-10, 1.01392e-10, ..., 9.86273e+01, 1.00000e+02]),\n",
       "    cv=None, fit_intercept=False, gcv_mode=None, normalize=False,\n",
       "    scoring=None, store_cv_values=True)"
      ]
     },
     "execution_count": 288,
     "metadata": {},
     "output_type": "execute_result"
    }
   ],
   "source": [
    "X3 = ridgetable14[['03','ave_polls']]\n",
    "model4 = linear_model.RidgeCV(alphas, fit_intercept=False, normalize=False, scoring=None, cv=None, gcv_mode=None, store_cv_values=True)\n",
    "model4.fit(X3,y,sample_weight=w)"
   ]
  },
  {
   "cell_type": "code",
   "execution_count": 289,
   "metadata": {},
   "outputs": [
    {
     "data": {
      "text/plain": [
       "array([0.15628376, 0.79292027])"
      ]
     },
     "execution_count": 289,
     "metadata": {},
     "output_type": "execute_result"
    }
   ],
   "source": [
    "model4.coef_"
   ]
  },
  {
   "cell_type": "code",
   "execution_count": 290,
   "metadata": {},
   "outputs": [
    {
     "data": {
      "text/plain": [
       "0.01288412790380471"
      ]
     },
     "execution_count": 290,
     "metadata": {},
     "output_type": "execute_result"
    }
   ],
   "source": [
    "model4.alpha_"
   ]
  },
  {
   "cell_type": "code",
   "execution_count": 291,
   "metadata": {},
   "outputs": [],
   "source": [
    "mses_by_alphas = model4.cv_values_.mean(axis=0)"
   ]
  },
  {
   "cell_type": "code",
   "execution_count": 292,
   "metadata": {},
   "outputs": [
    {
     "data": {
      "text/plain": [
       "0.0028532857091797268"
      ]
     },
     "execution_count": 292,
     "metadata": {},
     "output_type": "execute_result"
    }
   ],
   "source": [
    "mses_by_alphas.min()"
   ]
  },
  {
   "cell_type": "code",
   "execution_count": 293,
   "metadata": {},
   "outputs": [
    {
     "data": {
      "text/plain": [
       "0.10683231176343096"
      ]
     },
     "execution_count": 293,
     "metadata": {},
     "output_type": "execute_result"
    }
   ],
   "source": [
    "2*np.sqrt(mses_by_alphas.min())"
   ]
  },
  {
   "cell_type": "markdown",
   "metadata": {},
   "source": [
    "## Rerun properly CV-d (weighted?) model with fewer variables"
   ]
  },
  {
   "cell_type": "code",
   "execution_count": 294,
   "metadata": {},
   "outputs": [
    {
     "data": {
      "text/plain": [
       "RidgeCV(alphas=array([1.00000e-10, 1.01392e-10, ..., 9.86273e+01, 1.00000e+02]),\n",
       "    cv=<generator object BaseCrossValidator.split at 0x2f29478360>,\n",
       "    fit_intercept=False, gcv_mode=None, normalize=False, scoring=None,\n",
       "    store_cv_values=False)"
      ]
     },
     "execution_count": 294,
     "metadata": {},
     "output_type": "execute_result"
    }
   ],
   "source": [
    "model3 = linear_model.RidgeCV(alphas, fit_intercept=False, normalize=False, scoring=None, cv=logo.split(X, y, groups=groups), gcv_mode=None)#, store_cv_values=True)\n",
    "model3.fit(X3,y,sample_weight=w)"
   ]
  },
  {
   "cell_type": "code",
   "execution_count": 295,
   "metadata": {},
   "outputs": [],
   "source": [
    "model3eval = linear_model.Ridge(model3.alpha_, fit_intercept=False, normalize=False)\n",
    "scores = cross_val_score(model3eval, X3, y, cv=logo.split(X3, y, groups=groups),scoring='neg_mean_squared_error')"
   ]
  },
  {
   "cell_type": "code",
   "execution_count": 296,
   "metadata": {},
   "outputs": [
    {
     "data": {
      "text/plain": [
       "-0.002737348802904319"
      ]
     },
     "execution_count": 296,
     "metadata": {},
     "output_type": "execute_result"
    }
   ],
   "source": [
    "scores.mean()"
   ]
  },
  {
   "cell_type": "code",
   "execution_count": 297,
   "metadata": {},
   "outputs": [
    {
     "data": {
      "text/plain": [
       "0.10463935785170547"
      ]
     },
     "execution_count": 297,
     "metadata": {},
     "output_type": "execute_result"
    }
   ],
   "source": [
    "2*np.sqrt(-scores.mean())"
   ]
  },
  {
   "cell_type": "code",
   "execution_count": 298,
   "metadata": {},
   "outputs": [
    {
     "data": {
      "text/plain": [
       "array([0.17039601, 0.77626911])"
      ]
     },
     "execution_count": 298,
     "metadata": {},
     "output_type": "execute_result"
    }
   ],
   "source": [
    "model3.coef_"
   ]
  },
  {
   "cell_type": "code",
   "execution_count": 299,
   "metadata": {},
   "outputs": [
    {
     "data": {
      "text/plain": [
       "0.07151995188338064"
      ]
     },
     "execution_count": 299,
     "metadata": {},
     "output_type": "execute_result"
    }
   ],
   "source": [
    "model3.alpha_"
   ]
  },
  {
   "cell_type": "markdown",
   "metadata": {},
   "source": [
    "# 2018 prediction"
   ]
  },
  {
   "cell_type": "code",
   "execution_count": 300,
   "metadata": {},
   "outputs": [],
   "source": [
    "gtmelt18 = gtmelt.loc[gtmelt['honap'].isin(['2018-01','2018-02','2018-03'])]\n",
    "gtmelt18_nobal = gtmelt18.loc[~gtmelt18['szervezet'].isin(['mszp','pm'])]\n",
    "gtmelt18_bal = gtmelt18.loc[gtmelt18['szervezet'].isin(['mszp','pm'])]"
   ]
  },
  {
   "cell_type": "code",
   "execution_count": 301,
   "metadata": {},
   "outputs": [],
   "source": [
    "gtmelt18_bal = gtmelt18_bal.groupby(['honap','megye'])['search_intensity'].sum().reset_index()"
   ]
  },
  {
   "cell_type": "code",
   "execution_count": 302,
   "metadata": {},
   "outputs": [],
   "source": [
    "gtmelt18_bal['szervezet'] = 'mszp-p'"
   ]
  },
  {
   "cell_type": "code",
   "execution_count": 303,
   "metadata": {},
   "outputs": [],
   "source": [
    "gtmelt18 = gtmelt18_nobal.append(gtmelt18_bal)"
   ]
  },
  {
   "cell_type": "code",
   "execution_count": 304,
   "metadata": {},
   "outputs": [],
   "source": [
    "gtmelt18['ev'],gtmelt18['ho']=gtmelt18['honap'].str.split('-').str"
   ]
  },
  {
   "cell_type": "code",
   "execution_count": 305,
   "metadata": {},
   "outputs": [],
   "source": [
    "gtmelt18.drop(columns='honap',inplace=True)"
   ]
  },
  {
   "cell_type": "code",
   "execution_count": 306,
   "metadata": {},
   "outputs": [],
   "source": [
    "gt18_hopivot = gtmelt18.pivot_table(values='search_intensity', index=['ev', 'szervezet','megye'], columns='ho').reset_index()"
   ]
  },
  {
   "cell_type": "code",
   "execution_count": 307,
   "metadata": {},
   "outputs": [],
   "source": [
    "polls2018 = pd.read_csv('2018polls.csv',engine='c')"
   ]
  },
  {
   "cell_type": "code",
   "execution_count": 322,
   "metadata": {},
   "outputs": [],
   "source": [
    "ridgetable18 = gt18_hopivot.merge(polls2018,on=['szervezet'],validate='m:1',copy=False)"
   ]
  },
  {
   "cell_type": "code",
   "execution_count": 323,
   "metadata": {},
   "outputs": [],
   "source": [
    "ridgetable18['ave_polls']=ridgetable18['ave_polls']/100\n",
    "ridgetable18 = ridgetable18.merge(megyevoters,on=['megye'],validate='m:1',copy=False)"
   ]
  },
  {
   "cell_type": "code",
   "execution_count": 324,
   "metadata": {},
   "outputs": [],
   "source": [
    "predX3 = ridgetable18[['03','ave_polls']]"
   ]
  },
  {
   "cell_type": "code",
   "execution_count": 325,
   "metadata": {},
   "outputs": [],
   "source": [
    "predict18 = ridgetable18[['szervezet','megye']].copy()"
   ]
  },
  {
   "cell_type": "code",
   "execution_count": 326,
   "metadata": {},
   "outputs": [],
   "source": [
    "predict18['listas_elorejelzes'] = model3.predict(predX3)"
   ]
  },
  {
   "cell_type": "code",
   "execution_count": 327,
   "metadata": {},
   "outputs": [],
   "source": [
    "megyenamedict = {v: k for k, v in megyedict.items()}\n",
    "predict18['megyenevek'] = predict18['megye']\n",
    "predict18['megyenevek'].replace(megyenamedict,inplace=True)"
   ]
  },
  {
   "cell_type": "code",
   "execution_count": 330,
   "metadata": {},
   "outputs": [],
   "source": [
    "predict18.to_csv('ridge_elorejelzes.csv')"
   ]
  }
 ],
 "metadata": {
  "kernelspec": {
   "display_name": "Python 3",
   "language": "python",
   "name": "python3"
  },
  "language_info": {
   "codemirror_mode": {
    "name": "ipython",
    "version": 3
   },
   "file_extension": ".py",
   "mimetype": "text/x-python",
   "name": "python",
   "nbconvert_exporter": "python",
   "pygments_lexer": "ipython3",
   "version": "3.6.3"
  }
 },
 "nbformat": 4,
 "nbformat_minor": 2
}
