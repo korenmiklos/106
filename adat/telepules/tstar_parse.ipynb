{
 "cells": [
  {
   "cell_type": "code",
   "execution_count": 2,
   "metadata": {},
   "outputs": [],
   "source": [
    "import pandas as pd\n",
    "from functools import reduce"
   ]
  },
  {
   "cell_type": "code",
   "execution_count": 3,
   "metadata": {},
   "outputs": [],
   "source": [
    "path = '~/Downloads/T-Star/'\n",
    "filelist = ['ac.dta', 'de.dta', 'eu.dta', 'gs.dta', 'ig.dta', 'ip.dta', 'ke.dta', 'kh.dta', 'ki.dta', 'ko.dta', 'ks.dta', 'ku.dta', 'la.dta', 'mg.dta', 'mn.dta', 'ok.dta', 'on.dta', 'ov.dta', 'sz.dta', 'tu.dta', 'tx.dta']"
   ]
  },
  {
   "cell_type": "code",
   "execution_count": 4,
   "metadata": {},
   "outputs": [
    {
     "name": "stdout",
     "output_type": "stream",
     "text": [
      "ig.dta  did not have 3167 municipalities but  3164\n",
      "ip.dta  did not have 3167 municipalities but  3164\n",
      "ki.dta  did not have 3167 municipalities but  3166\n",
      "mg.dta  did not have 3167 municipalities but  3164\n",
      "ov.dta  did not have 3167 municipalities but  3166\n",
      "tu.dta  did not have 3167 municipalities but  3166\n",
      "tx.dta  did not have 3167 municipalities but  3166\n"
     ]
    }
   ],
   "source": [
    "dflist = []\n",
    "for  f in filelist:\n",
    "    filename = path + f\n",
    "    df = pd.read_stata(filename,convert_categoricals=False)\n",
    "    muncount = df['tazon'].nunique()\n",
    "    if not muncount == 3167:\n",
    "        print(f,' did not have 3167 municipalities but ',muncount)\n",
    "        continue\n",
    "    dflist.append(df)\n",
    "tstar = reduce(lambda x, y: pd.merge(x, y,on=['tazon','ev'],how='outer',copy=False), dflist)\n",
    "tstar['telnev']=tstar['telnev_helyes_x'].iloc[:,0]\n",
    "dflist = []"
   ]
  },
  {
   "cell_type": "code",
   "execution_count": 5,
   "metadata": {},
   "outputs": [],
   "source": [
    "# useless on categoricals: tstar.replace(['Õ','õ','Ũ','ũ','Ô','ô','Û','û'],['Ő','ő','Ű','ű','Ő','ő','Ű','ű'], inplace=True, regex=True)"
   ]
  },
  {
   "cell_type": "code",
   "execution_count": 6,
   "metadata": {},
   "outputs": [],
   "source": [
    "tstar['ksh_azonosito'] = tstar['tazon'].map('{:04.0f}'.format)"
   ]
  },
  {
   "cell_type": "code",
   "execution_count": 7,
   "metadata": {},
   "outputs": [
    {
     "data": {
      "text/html": [
       "<div>\n",
       "<style>\n",
       "    .dataframe thead tr:only-child th {\n",
       "        text-align: right;\n",
       "    }\n",
       "\n",
       "    .dataframe thead th {\n",
       "        text-align: left;\n",
       "    }\n",
       "\n",
       "    .dataframe tbody tr th {\n",
       "        vertical-align: top;\n",
       "    }\n",
       "</style>\n",
       "<table border=\"1\" class=\"dataframe\">\n",
       "  <thead>\n",
       "    <tr style=\"text-align: right;\">\n",
       "      <th></th>\n",
       "      <th>tazon</th>\n",
       "      <th>ev</th>\n",
       "      <th>kist150_x</th>\n",
       "      <th>kist168_x</th>\n",
       "      <th>kist174_x</th>\n",
       "      <th>kist175_x</th>\n",
       "      <th>mkod1990_x</th>\n",
       "      <th>mkod2008_x</th>\n",
       "      <th>rkod1990_x</th>\n",
       "      <th>rkod2008_x</th>\n",
       "      <th>...</th>\n",
       "      <th>sz131</th>\n",
       "      <th>sz132</th>\n",
       "      <th>sz133</th>\n",
       "      <th>sz134</th>\n",
       "      <th>sz135</th>\n",
       "      <th>sz136</th>\n",
       "      <th>sz137</th>\n",
       "      <th>sz138</th>\n",
       "      <th>telnev</th>\n",
       "      <th>ksh_azonosito</th>\n",
       "    </tr>\n",
       "  </thead>\n",
       "  <tbody>\n",
       "    <tr>\n",
       "      <th>0</th>\n",
       "      <td>150</td>\n",
       "      <td>2005</td>\n",
       "      <td>4201.0</td>\n",
       "      <td>4201.0</td>\n",
       "      <td>4201.0</td>\n",
       "      <td>4201.0</td>\n",
       "      <td>12.0</td>\n",
       "      <td>12.0</td>\n",
       "      <td>5.0</td>\n",
       "      <td>5.0</td>\n",
       "      <td>...</td>\n",
       "      <td>NaN</td>\n",
       "      <td>NaN</td>\n",
       "      <td>NaN</td>\n",
       "      <td>NaN</td>\n",
       "      <td>NaN</td>\n",
       "      <td>NaN</td>\n",
       "      <td>NaN</td>\n",
       "      <td>NaN</td>\n",
       "      <td>Ipolyszög</td>\n",
       "      <td>0150</td>\n",
       "    </tr>\n",
       "    <tr>\n",
       "      <th>1</th>\n",
       "      <td>150</td>\n",
       "      <td>2006</td>\n",
       "      <td>4201.0</td>\n",
       "      <td>4201.0</td>\n",
       "      <td>4201.0</td>\n",
       "      <td>4201.0</td>\n",
       "      <td>12.0</td>\n",
       "      <td>12.0</td>\n",
       "      <td>5.0</td>\n",
       "      <td>5.0</td>\n",
       "      <td>...</td>\n",
       "      <td>NaN</td>\n",
       "      <td>NaN</td>\n",
       "      <td>NaN</td>\n",
       "      <td>NaN</td>\n",
       "      <td>NaN</td>\n",
       "      <td>NaN</td>\n",
       "      <td>NaN</td>\n",
       "      <td>NaN</td>\n",
       "      <td>Ipolyszög</td>\n",
       "      <td>0150</td>\n",
       "    </tr>\n",
       "    <tr>\n",
       "      <th>2</th>\n",
       "      <td>150</td>\n",
       "      <td>2007</td>\n",
       "      <td>4201.0</td>\n",
       "      <td>4201.0</td>\n",
       "      <td>4201.0</td>\n",
       "      <td>4201.0</td>\n",
       "      <td>12.0</td>\n",
       "      <td>12.0</td>\n",
       "      <td>5.0</td>\n",
       "      <td>5.0</td>\n",
       "      <td>...</td>\n",
       "      <td>NaN</td>\n",
       "      <td>NaN</td>\n",
       "      <td>NaN</td>\n",
       "      <td>NaN</td>\n",
       "      <td>NaN</td>\n",
       "      <td>NaN</td>\n",
       "      <td>NaN</td>\n",
       "      <td>NaN</td>\n",
       "      <td>Ipolyszög</td>\n",
       "      <td>0150</td>\n",
       "    </tr>\n",
       "    <tr>\n",
       "      <th>3</th>\n",
       "      <td>150</td>\n",
       "      <td>2008</td>\n",
       "      <td>4201.0</td>\n",
       "      <td>4201.0</td>\n",
       "      <td>4201.0</td>\n",
       "      <td>4201.0</td>\n",
       "      <td>12.0</td>\n",
       "      <td>12.0</td>\n",
       "      <td>5.0</td>\n",
       "      <td>5.0</td>\n",
       "      <td>...</td>\n",
       "      <td>0.0</td>\n",
       "      <td>73.0</td>\n",
       "      <td>NaN</td>\n",
       "      <td>NaN</td>\n",
       "      <td>NaN</td>\n",
       "      <td>NaN</td>\n",
       "      <td>NaN</td>\n",
       "      <td>NaN</td>\n",
       "      <td>Ipolyszög</td>\n",
       "      <td>0150</td>\n",
       "    </tr>\n",
       "    <tr>\n",
       "      <th>4</th>\n",
       "      <td>150</td>\n",
       "      <td>2009</td>\n",
       "      <td>4201.0</td>\n",
       "      <td>4201.0</td>\n",
       "      <td>4201.0</td>\n",
       "      <td>4201.0</td>\n",
       "      <td>12.0</td>\n",
       "      <td>12.0</td>\n",
       "      <td>5.0</td>\n",
       "      <td>5.0</td>\n",
       "      <td>...</td>\n",
       "      <td>NaN</td>\n",
       "      <td>82.0</td>\n",
       "      <td>NaN</td>\n",
       "      <td>NaN</td>\n",
       "      <td>NaN</td>\n",
       "      <td>NaN</td>\n",
       "      <td>NaN</td>\n",
       "      <td>NaN</td>\n",
       "      <td>Ipolyszög</td>\n",
       "      <td>0150</td>\n",
       "    </tr>\n",
       "  </tbody>\n",
       "</table>\n",
       "<p>5 rows × 1622 columns</p>\n",
       "</div>"
      ],
      "text/plain": [
       "  tazon    ev  kist150_x  kist168_x  kist174_x  kist175_x  mkod1990_x  \\\n",
       "0   150  2005     4201.0     4201.0     4201.0     4201.0        12.0   \n",
       "1   150  2006     4201.0     4201.0     4201.0     4201.0        12.0   \n",
       "2   150  2007     4201.0     4201.0     4201.0     4201.0        12.0   \n",
       "3   150  2008     4201.0     4201.0     4201.0     4201.0        12.0   \n",
       "4   150  2009     4201.0     4201.0     4201.0     4201.0        12.0   \n",
       "\n",
       "   mkod2008_x  rkod1990_x  rkod2008_x      ...        sz131  sz132  sz133  \\\n",
       "0        12.0         5.0         5.0      ...          NaN    NaN    NaN   \n",
       "1        12.0         5.0         5.0      ...          NaN    NaN    NaN   \n",
       "2        12.0         5.0         5.0      ...          NaN    NaN    NaN   \n",
       "3        12.0         5.0         5.0      ...          0.0   73.0    NaN   \n",
       "4        12.0         5.0         5.0      ...          NaN   82.0    NaN   \n",
       "\n",
       "   sz134 sz135 sz136  sz137  sz138     telnev  ksh_azonosito  \n",
       "0    NaN   NaN   NaN    NaN    NaN  Ipolyszög           0150  \n",
       "1    NaN   NaN   NaN    NaN    NaN  Ipolyszög           0150  \n",
       "2    NaN   NaN   NaN    NaN    NaN  Ipolyszög           0150  \n",
       "3    NaN   NaN   NaN    NaN    NaN  Ipolyszög           0150  \n",
       "4    NaN   NaN   NaN    NaN    NaN  Ipolyszög           0150  \n",
       "\n",
       "[5 rows x 1622 columns]"
      ]
     },
     "execution_count": 7,
     "metadata": {},
     "output_type": "execute_result"
    }
   ],
   "source": [
    "tstar.head()"
   ]
  },
  {
   "cell_type": "code",
   "execution_count": 8,
   "metadata": {},
   "outputs": [
    {
     "data": {
      "text/plain": [
       "3167"
      ]
     },
     "execution_count": 8,
     "metadata": {},
     "output_type": "execute_result"
    }
   ],
   "source": [
    "tstar.size\n",
    "tstar['tazon'].nunique()"
   ]
  },
  {
   "cell_type": "markdown",
   "metadata": {},
   "source": [
    "Népességen belüli korcsoportok arányai"
   ]
  },
  {
   "cell_type": "code",
   "execution_count": 9,
   "metadata": {},
   "outputs": [],
   "source": [
    "tstar['nok_0_14_aranya'] = tstar['de29']/tstar['de03']\n",
    "tstar['nok_15_17_aranya'] = tstar['de30']/tstar['de03']\n",
    "tstar['nok_18_aranya'] = tstar['de31']/tstar['de03']\n",
    "tstar['nok_19_aranya'] = tstar['de32']/tstar['de03']\n",
    "tstar['nok_20_29_aranya'] = tstar['de33']/tstar['de03']\n",
    "tstar['nok_30_39_aranya'] = tstar['de34']/tstar['de03']\n",
    "tstar['nok_40_49_aranya'] = tstar['de35']/tstar['de03']\n",
    "tstar['nok_50_59_aranya'] = tstar['de36']/tstar['de03']\n",
    "tstar['nok_60_64_aranya'] = tstar['de37']/tstar['de03']\n",
    "tstar['nok_65+_aranya'] = tstar['de38']/tstar['de03']"
   ]
  },
  {
   "cell_type": "code",
   "execution_count": 10,
   "metadata": {},
   "outputs": [],
   "source": [
    "tstar['ffi_0_14_aranya'] = tstar['de39']/tstar['de03']\n",
    "tstar['ffi_15_17_aranya'] = tstar['de40']/tstar['de03']\n",
    "tstar['ffi_18_aranya'] = tstar['de41']/tstar['de03']\n",
    "tstar['ffi_19_aranya'] = tstar['de42']/tstar['de03']\n",
    "tstar['ffi_20_29_aranya'] = tstar['de43']/tstar['de03']\n",
    "tstar['ffi_30_39_aranya'] = tstar['de44']/tstar['de03']\n",
    "tstar['ffi_40_49_aranya'] = tstar['de45']/tstar['de03']\n",
    "tstar['ffi_50_59_aranya'] = tstar['de46']/tstar['de03']\n",
    "tstar['ffi_60_64_aranya'] = tstar['de47']/tstar['de03']\n",
    "tstar['ffi_65+_aranya'] = tstar['de48']/tstar['de03']"
   ]
  },
  {
   "cell_type": "code",
   "execution_count": 11,
   "metadata": {},
   "outputs": [
    {
     "data": {
      "text/plain": [
       "Index(['tazon', 'ev', 'kist150_x', 'kist168_x', 'kist174_x', 'kist175_x',\n",
       "       'mkod1990_x', 'mkod2008_x', 'rkod1990_x', 'rkod2008_x', 'xcoorkm_x',\n",
       "       'ycoorkm_x', 'teltip3_x', 'teltip8_x', 'telnev_helyes_x', 'kistn174',\n",
       "       'ac01', 'ac02', 'ac03', 'ac04', 'ac05', 'ac06', 'ac07', 'ac08', 'ac09',\n",
       "       'ac10', 'ac11', 'ac12', 'ac13', 'ac14'],\n",
       "      dtype='object')"
      ]
     },
     "execution_count": 11,
     "metadata": {},
     "output_type": "execute_result"
    }
   ],
   "source": [
    "tstar.columns[:30]"
   ]
  },
  {
   "cell_type": "code",
   "execution_count": 12,
   "metadata": {},
   "outputs": [],
   "source": [
    "tstar['ev+3']=tstar['ev']+3"
   ]
  },
  {
   "cell_type": "code",
   "execution_count": 13,
   "metadata": {},
   "outputs": [],
   "source": [
    "tstar.to_csv(path+'koraranyok.csv',index=False,columns=['ksh_azonosito','telnev','ev+3','nok_0_14_aranya','nok_15_17_aranya','nok_18_aranya','nok_19_aranya','nok_20_29_aranya','nok_30_39_aranya','nok_40_49_aranya','nok_50_59_aranya','nok_60_64_aranya','nok_65+_aranya','ffi_0_14_aranya','ffi_15_17_aranya','ffi_18_aranya','ffi_19_aranya','ffi_20_29_aranya','ffi_30_39_aranya','ffi_40_49_aranya','ffi_50_59_aranya','ffi_60_64_aranya','ffi_65+_aranya'])"
   ]
  },
  {
   "cell_type": "code",
   "execution_count": 14,
   "metadata": {},
   "outputs": [],
   "source": [
    "tstar.rename(columns={'gs265':'0_fos_ceg', 'gs266':'1-9_fos_ceg', 'gs267':'10-19_fos_ceg', 'gs268':'20-49_fos_ceg', 'gs269':'50-249_fos_ceg', 'gs270':'250-499_fos_ceg', 'gs271':'500+_fos_ceg'},inplace=True)"
   ]
  },
  {
   "cell_type": "code",
   "execution_count": 15,
   "metadata": {},
   "outputs": [],
   "source": [
    "tstar.loc[tstar['ev'].isin(range(2011,2016))].to_csv(path+'munkaadok.csv',na_rep='0',float_format = '%.0f',index=False,columns=['ksh_azonosito','telnev','ev+3','0_fos_ceg','1-9_fos_ceg','10-19_fos_ceg','20-49_fos_ceg','50-249_fos_ceg','250-499_fos_ceg','500+_fos_ceg'])"
   ]
  },
  {
   "cell_type": "markdown",
   "metadata": {},
   "source": [
    "A következő arányszámok a *lakó*népesség arányában értendők. A lakások száma lenne releváns a kábeltévé, az internetelőfizetések és a csatornázottság számaihoz, a lakott lakásokról sajnos megfeleltethető szám nem található.\n",
    "Az internetes lefedettség sajnos 2013-ban indul."
   ]
  },
  {
   "cell_type": "code",
   "execution_count": 16,
   "metadata": {},
   "outputs": [],
   "source": [
    "tstar['szgk_arany']=tstar['kh20']/tstar['de02']\n",
    "tstar['kabeltv_lefettseg']=tstar['kh16']/tstar['la01']\n",
    "tstar['internet_arany']=tstar['kh57']/tstar['la01']\n",
    "tstar['csatornazottsag']=tstar['ko14']/tstar['la01']\n",
    "tstar['atlagos_otthoni_aramfogyasztas']=tstar['ko20']/tstar['de02']\n",
    "tstar['atlagos_otthoni_gazfogyasztas']=tstar['ko23']/tstar['de02']\n",
    "tstar['lakosok_per_lakasok']=tstar['de02']/tstar['la01']"
   ]
  },
  {
   "cell_type": "code",
   "execution_count": 17,
   "metadata": {},
   "outputs": [],
   "source": [
    "tstar.to_csv(path+'rezsi.csv',index=False,columns=['ksh_azonosito','telnev','ev+3','szgk_arany', 'kabeltv_lefettseg', 'internet_arany', 'csatornazottsag', 'atlagos_otthoni_aramfogyasztas', 'atlagos_otthoni_gazfogyasztas', 'lakosok_per_lakasok'])"
   ]
  },
  {
   "cell_type": "code",
   "execution_count": 18,
   "metadata": {},
   "outputs": [],
   "source": [
    "tstar['allaskeresok_aranya_8osztalyse'] = tstar['mn10'] / tstar['de02']\n",
    "tstar['allaskeresok_aranya_8osztaly'] = tstar['mn11'] / tstar['de02'] \n",
    "tstar['allaskeresok_aranya_szakmunkas'] = tstar['mn12'] / tstar['de02']\n",
    "tstar['allaskeresok_aranya_szakiskolai'] = tstar['mn13'] / tstar['de02']\n",
    "tstar['allaskeresok_aranya_kozepiskola'] = tstar['mn14'] / tstar['de02']\n",
    "tstar['allaskeresok_aranya_foiskola'] = tstar['mn15'] / tstar['de02']\n",
    "tstar['allaskeresok_aranya_egyetem'] = tstar['mn16'] / tstar['de02']"
   ]
  },
  {
   "cell_type": "code",
   "execution_count": 19,
   "metadata": {},
   "outputs": [],
   "source": [
    "tstar.to_csv(path+'allaskeresok.csv',index=False,columns=['ksh_azonosito','telnev','ev+3',\n",
    "                                                   'allaskeresok_aranya_8osztalyse',\n",
    "                                                   'allaskeresok_aranya_8osztaly',\n",
    "                                                   'allaskeresok_aranya_szakmunkas',\n",
    "                                                   'allaskeresok_aranya_szakiskolai',\n",
    "                                                   'allaskeresok_aranya_kozepiskola',\n",
    "                                                   'allaskeresok_aranya_foiskola',\n",
    "                                                   'allaskeresok_aranya_egyetem'])"
   ]
  },
  {
   "cell_type": "code",
   "execution_count": 20,
   "metadata": {},
   "outputs": [],
   "source": [
    "tstar['adossag_csokk_tam_aranya'] = tstar['on49'] / tstar['de02']\n",
    "tstar['fogl_hely_tam_aranya'] = tstar['on42'] / tstar['de02']\n",
    "tstar['rszs_tam_aranya'] = tstar['on40'] / tstar['de02']\n",
    "tstar['kozgyogy_tam_aranya'] = tstar['on37'] / tstar['de02']\n",
    "tstar['idos_jar_tam_aranya'] = tstar['on26'] / tstar['de02']\n",
    "tstar['lakascelu_tam_aranya'] = tstar['on22'] / tstar['de02']\n",
    "tstar['lakfenntart_tam_aranya'] = tstar['on16'] / tstar['de02']\n",
    "tstar['kozmunka_aranya'] = tstar['on13'] / tstar['de02']"
   ]
  },
  {
   "cell_type": "code",
   "execution_count": 21,
   "metadata": {},
   "outputs": [],
   "source": [
    "tstar.to_csv(path+'tamogatottak.csv',index=False,columns=['ksh_azonosito','telnev','ev+3',\n",
    "                                                         'adossag_csokk_tam_aranya',\n",
    "                                                         'fogl_hely_tam_aranya',\n",
    "                                                         'rszs_tam_aranya',\n",
    "                                                         'kozgyogy_tam_aranya',\n",
    "                                                         'idos_jar_tam_aranya',\n",
    "                                                         'lakascelu_tam_aranya',\n",
    "                                                         'lakfenntart_tam_aranya',\n",
    "                                                         'kozmunka_aranya'])"
   ]
  },
  {
   "cell_type": "code",
   "execution_count": 22,
   "metadata": {},
   "outputs": [],
   "source": [
    "tstar['nyudijas_ffi_arany'] = tstar['sz53'] / tstar['de02']\n",
    "tstar['nyudijas_noi_arany'] = tstar['sz60'] / tstar['de02']"
   ]
  },
  {
   "cell_type": "code",
   "execution_count": 23,
   "metadata": {},
   "outputs": [],
   "source": [
    "tstar.to_csv(path+'nyugdijasok.csv',index=False,columns=['ksh_azonosito','telnev','ev+3',\n",
    "                                                        'nyudijas_ffi_arany',\n",
    "                                                        'nyudijas_noi_arany'])"
   ]
  },
  {
   "cell_type": "code",
   "execution_count": 24,
   "metadata": {},
   "outputs": [],
   "source": [
    "tstar['pop']=tstar['de03']\n",
    "tstar.to_csv(path+'pop.csv',index=False,columns=['ksh_azonosito','telnev','ev+3','pop'])"
   ]
  },
  {
   "cell_type": "code",
   "execution_count": null,
   "metadata": {},
   "outputs": [],
   "source": []
  }
 ],
 "metadata": {
  "kernelspec": {
   "display_name": "Python 3",
   "language": "python",
   "name": "python3"
  },
  "language_info": {
   "codemirror_mode": {
    "name": "ipython",
    "version": 3
   },
   "file_extension": ".py",
   "mimetype": "text/x-python",
   "name": "python",
   "nbconvert_exporter": "python",
   "pygments_lexer": "ipython3",
   "version": "3.6.3"
  }
 },
 "nbformat": 4,
 "nbformat_minor": 2
}
